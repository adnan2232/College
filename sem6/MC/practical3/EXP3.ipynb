{
 "cells": [
  {
   "cell_type": "code",
   "execution_count": 10,
   "id": "f9a43cda",
   "metadata": {},
   "outputs": [
    {
     "name": "stdout",
     "output_type": "stream",
     "text": [
      "Enter number in range [8,128] and in power of 2: 100\n",
      "\n",
      "Data size must be in power of two\n"
     ]
    }
   ],
   "source": [
    "import random\n",
    "import math\n",
    "\n",
    "def encryption(data_size):\n",
    "    assert 8<= data_size <= 128, \"Data size should be in range [8,128]\"\n",
    "    assert data_size & (data_size-1) == 0, \"Data size must be in power of two\"\n",
    "    \n",
    "    key, data = [bin(random.getrandbits(data_size))[2:].zfill(data_size) for _ in range(2)] \n",
    "    key_left, key_right = key[:data_size//2], key[data_size//2:]\n",
    "    data_left, data_right = data[:data_size//2], data[data_size//2:]\n",
    "    a1, a2 = int(key_left,2)^int(data_right,2),int(key_right,2)^int(data_left,2)\n",
    "    a3 = a1^a2\n",
    "    a4 = bin(a3)[2:].zfill(data_size//2)\n",
    "    a5, a6 = a4[:data_size//4], a4[data_size//4:]\n",
    "    a7 = int(a5,2)^int(a6,2)\n",
    "    \n",
    "    return key, data, bin(a7)[2:].zfill(data_size//4)\n",
    "\n",
    "data_size = int(input(\"Enter number in range [8,128] and in power of 2: \"))\n",
    "print()\n",
    "try:\n",
    "    key, random_bits, res_sres_ratio = encryption(data_size)\n",
    "    print(f\"{data_size} bit key= {key}\\n\\n{data_size} random bits generated= {random_bits}\\n\")\n",
    "    print(f\"RES/SRES= {res_sres_ratio}\")\n",
    "    \n",
    "except AssertionError as error:\n",
    "    print(error)"
   ]
  },
  {
   "cell_type": "code",
   "execution_count": null,
   "id": "5ddca2c3",
   "metadata": {},
   "outputs": [],
   "source": []
  }
 ],
 "metadata": {
  "kernelspec": {
   "display_name": "Python 3 (ipykernel)",
   "language": "python",
   "name": "python3"
  },
  "language_info": {
   "codemirror_mode": {
    "name": "ipython",
    "version": 3
   },
   "file_extension": ".py",
   "mimetype": "text/x-python",
   "name": "python",
   "nbconvert_exporter": "python",
   "pygments_lexer": "ipython3",
   "version": "3.8.8"
  }
 },
 "nbformat": 4,
 "nbformat_minor": 5
}
