{
 "cells": [
  {
   "cell_type": "code",
   "execution_count": 26,
   "id": "4ab3e77b",
   "metadata": {},
   "outputs": [
    {
     "name": "stdout",
     "output_type": "stream",
     "text": [
      "path from Arad to Bucharest: ['Arad', 'Sibiu', 'Fagaras', 'Bucharest']\n",
      "\n",
      "path from Arad to RimnicuVilcea: ['Arad', 'Timisoara', 'RimnicuVilcea']\n",
      "\n",
      "path from Arad to Sinaia: path doen't exist\n",
      "\n"
     ]
    }
   ],
   "source": [
    "from queue import PriorityQueue\n",
    "\n",
    "def create_path(parent,dest):\n",
    "    temp = []\n",
    "    \n",
    "    while(dest):\n",
    "        temp.append(dest)\n",
    "        dest = parent[dest]\n",
    "        \n",
    "    return list(reversed(temp))\n",
    "\n",
    "def gbfs(graph,source,dest,heu):\n",
    "    parent, visited = {}, set()\n",
    "    que = PriorityQueue()\n",
    "    que.put((heu[source],source))\n",
    "    parent[source] = None\n",
    "    while(not que.empty()):\n",
    "        \n",
    "        current = que.get()[1]\n",
    "    \n",
    "        if current == dest:\n",
    "            return create_path(parent,dest)\n",
    "        \n",
    "        visited.add(current)\n",
    "        \n",
    "        for neighbour in graph[current]:\n",
    "            \n",
    "            if neighbour in visited:\n",
    "                continue\n",
    "            \n",
    "            que.put((heu[neighbour],neighbour))\n",
    "            parent[neighbour] = current\n",
    "            \n",
    "    return \"path doen't exist\"\n",
    "    \n",
    "graph = {\n",
    "    \"Arad\":[\"Sibiu\", \"Timisoara\",\"Zerind\"],\n",
    "    \"Sibiu\": [\"Arad\",\"Fagaras\",\"Oradea\", \"RimnicuVilcea\"],\n",
    "    \"Timisoara\": [\"RimnicuVilcea\"],\n",
    "    \"Zerind\": [],\n",
    "    \"Fagaras\": [\"Sibiu\",\"Bucharest\"],\n",
    "    \"Oradea\":[],\n",
    "    \"RimnicuVilcea\": [\"Arad\"],\n",
    "    \"Bucharest\": [\"Zerind\"],\n",
    "}\n",
    "\n",
    "heu = {\n",
    "    \"Arad\": 366, \"Bucharest\":0, \"Fagaras\":176, \n",
    "    \"Sibiu\":359, \"Timisoara\": 253, \"Zerind\":350,\n",
    "    \"Oradea\":170, \"RimnicuVilcea\": 100,\n",
    "    \"Bucharest\":0\n",
    "}\n",
    "inputs = [\n",
    "    (graph,\"Arad\",\"Bucharest\",heu),\n",
    "    (graph,\"Arad\",\"RimnicuVilcea\",heu),\n",
    "    (graph,\"Arad\",\"Sinaia\",heu)\n",
    "]\n",
    "\n",
    "for x in inputs:\n",
    "    print(f\"path from {x[1]} to {x[2]}: {gbfs(*x)}\\n\")\n"
   ]
  }
 ],
 "metadata": {
  "kernelspec": {
   "display_name": "Python 3 (ipykernel)",
   "language": "python",
   "name": "python3"
  },
  "language_info": {
   "codemirror_mode": {
    "name": "ipython",
    "version": 3
   },
   "file_extension": ".py",
   "mimetype": "text/x-python",
   "name": "python",
   "nbconvert_exporter": "python",
   "pygments_lexer": "ipython3",
   "version": "3.9.7"
  }
 },
 "nbformat": 4,
 "nbformat_minor": 5
}
