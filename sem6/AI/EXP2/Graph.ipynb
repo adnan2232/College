{
 "cells": [
  {
   "cell_type": "code",
   "execution_count": 112,
   "id": "a844c1e6",
   "metadata": {},
   "outputs": [],
   "source": [
    "#For Creating Nodes\n",
    "class Node:\n",
    "    \n",
    "    '''Creating a new node and adding all its neighbour''' \n",
    "    def __init__(self,value,Node_map,neighbours = set()):\n",
    "        self.value = value\n",
    "        self.neighbours = set()\n",
    "        self.add_neighbours(Node_map,neighbours)\n",
    "    \n",
    "    '''Adding Neighbours to a node(bidirectional edges) by checking neighbour node exist or not,\n",
    "        if doesn't creating one\n",
    "    '''\n",
    "    def add_neighbours(self,Node_map,neighbours=set()):\n",
    "        for neighbour in neighbours:\n",
    "            if neighbour not in Node_map:\n",
    "                temp = Node(neighbour,Node_map)\n",
    "                Node_map[neighbour] = temp\n",
    "                temp.neighbours.add(self.value)\n",
    "                self.neighbours.add(temp.value)\n",
    "                \n",
    "            else:\n",
    "                self.neighbours.add(neighbour)\n",
    "                Node_map[neighbour].neighbours.add(self.value)\n",
    "       \n",
    "class Graph:\n",
    "    \n",
    "    def __init__(self):\n",
    "        self.Node_map = {} #Keeping accounting of nodes added till now with their value and references\n",
    "        \n",
    "    '''Simply create a Node if doesn't exist using Node class\n",
    "        if Node exist only add edges\n",
    "    '''\n",
    "    def create_node(self,value,neighbours = set()):\n",
    "        if value in self.Node_map:\n",
    "            self.add_neighbours(value,neighbours)\n",
    "        else:\n",
    "            node = Node(value,self.Node_map,neighbours)\n",
    "            self.Node_map[value] = node\n",
    "        \n",
    "    def add_neighbours(self,value, neighbhours):\n",
    "        #Before adding neigbhour to node first checking if node exist or node, if not raise error\n",
    "        assert value in self.Node_map, \"Given node doesn't exist\" \n",
    "        node = self.Node_map[value]\n",
    "        node.add_neighbours(self.Node_map,neighbhours)\n",
    "        \n",
    "    def bfs(self,value =None):\n",
    "        visited = set()\n",
    "        que = []\n",
    "        if value == None:\n",
    "            #picking up random node since no Node is passed\n",
    "            que.append(list(self.Node_map.keys())[0])\n",
    "        else:\n",
    "            #Cheking if passed Node exist or not, if not raise error\n",
    "            assert value in self.Node_map, \"Node doesn't exist\"\n",
    "            que.append(value)\n",
    "        \n",
    "        visited.add(que[0])\n",
    "        for value in(que):\n",
    "            for neighbour in self.Node_map[value].neighbours:\n",
    "                if neighbour not in visited:\n",
    "                    que.append(neighbour)\n",
    "                    visited.add(neighbour)\n",
    "            print(value,end=\" \")\n",
    "        \n",
    "    def dfs(self,value = None,visited = set()):\n",
    "        if not value:\n",
    "            value = list(self.Node_map.keys())[0]\n",
    "            print(f\"Randomly pick up: {value}\")\n",
    "        else:\n",
    "            assert value in self.Node_map, \"Node is not present\"\n",
    "            \n",
    "        visited.add(value)\n",
    "        for neighbour in self.Node_map[value].neighbours:\n",
    "            if neighbour not in visited:\n",
    "                self.dfs(neighbour,visited)\n",
    "                \n",
    "        print(value, end = \" \")\n",
    "        \n",
    "    def iterative_dfs(self, value = None):\n",
    "        if not value:\n",
    "            value = list(self.Node_map.keys())[0]\n",
    "            print(f\"Randomly pick up: {value}\")\n",
    "        else:\n",
    "            assert value in self.Node_map, \"Node is not present\"\n",
    "        stack = [value]\n",
    "        visited = set()\n",
    "        while(stack):\n",
    "            value = stack.pop()\n",
    "            visited.add(value)\n",
    "            for neighbour in self.Node_map[value].neighbours:\n",
    "                if neighbour not in visited:\n",
    "                    stack.append(neighbour)\n",
    "                    visited.add(neighbour)\n",
    "            print(value, end=\" \")\n",
    "                    "
   ]
  },
  {
   "cell_type": "code",
   "execution_count": 113,
   "id": "cfd8e2e2",
   "metadata": {},
   "outputs": [],
   "source": [
    "g1 = Graph()\n",
    "g1.create_node(\"A\",{\"B\",\"E\",\"F\"})\n",
    "g1.create_node(\"B\",{\"C\",\"D\"})\n",
    "g1.create_node(\"C\",{\"H\",\"J\"})\n",
    "g1.add_neighbours(\"C\",{\"D\",\"I\"})"
   ]
  },
  {
   "cell_type": "code",
   "execution_count": 114,
   "id": "1c0767b4",
   "metadata": {},
   "outputs": [
    {
     "name": "stdout",
     "output_type": "stream",
     "text": [
      "F A B E C D I J H "
     ]
    }
   ],
   "source": [
    "g1.bfs() #it pickup random node when no parameter is passed"
   ]
  },
  {
   "cell_type": "code",
   "execution_count": 115,
   "id": "79017cb1",
   "metadata": {},
   "outputs": [
    {
     "name": "stdout",
     "output_type": "stream",
     "text": [
      "A F B E C D I J H "
     ]
    }
   ],
   "source": [
    "g1.bfs(\"A\")"
   ]
  },
  {
   "cell_type": "code",
   "execution_count": 116,
   "id": "79b6d197",
   "metadata": {},
   "outputs": [
    {
     "name": "stdout",
     "output_type": "stream",
     "text": [
      "F D I J H C B E A "
     ]
    }
   ],
   "source": [
    "g1.dfs(\"A\", visited = set())"
   ]
  },
  {
   "cell_type": "code",
   "execution_count": 117,
   "id": "9e1ea550",
   "metadata": {},
   "outputs": [
    {
     "name": "stdout",
     "output_type": "stream",
     "text": [
      "Randomly pick up: F\n",
      "D I J H C B E A F "
     ]
    }
   ],
   "source": [
    "g1.dfs(visited=set())"
   ]
  },
  {
   "cell_type": "code",
   "execution_count": 118,
   "id": "b1a3d532",
   "metadata": {},
   "outputs": [
    {
     "name": "stdout",
     "output_type": "stream",
     "text": [
      "Randomly pick up: F\n",
      "F A E B D C H J I "
     ]
    }
   ],
   "source": [
    "g1.iterative_dfs()"
   ]
  },
  {
   "cell_type": "code",
   "execution_count": 120,
   "id": "631e02f5",
   "metadata": {},
   "outputs": [
    {
     "name": "stdout",
     "output_type": "stream",
     "text": [
      "A E B D C H J I F "
     ]
    }
   ],
   "source": [
    "g1.iterative_dfs(\"A\")"
   ]
  },
  {
   "cell_type": "code",
   "execution_count": null,
   "id": "f2eb5524",
   "metadata": {},
   "outputs": [],
   "source": []
  }
 ],
 "metadata": {
  "kernelspec": {
   "display_name": "Python 3 (ipykernel)",
   "language": "python",
   "name": "python3"
  },
  "language_info": {
   "codemirror_mode": {
    "name": "ipython",
    "version": 3
   },
   "file_extension": ".py",
   "mimetype": "text/x-python",
   "name": "python",
   "nbconvert_exporter": "python",
   "pygments_lexer": "ipython3",
   "version": "3.8.8"
  }
 },
 "nbformat": 4,
 "nbformat_minor": 5
}
