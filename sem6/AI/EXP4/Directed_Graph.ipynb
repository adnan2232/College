{
 "cells": [
  {
   "cell_type": "code",
   "execution_count": 1,
   "id": "357004e4",
   "metadata": {},
   "outputs": [],
   "source": [
    "from queue import PriorityQueue"
   ]
  },
  {
   "cell_type": "code",
   "execution_count": 146,
   "id": "a21edffa",
   "metadata": {},
   "outputs": [],
   "source": [
    "class Node:\n",
    "    def __init__(self,Node_map,value = None, neighbours = {}):\n",
    "        self.add_node(value = value, neighbours = neighbours,Node_map = Node_map)\n",
    "                \n",
    "        \n",
    "    def add_node(self, Node_map, value = None ,neighbours = {}):\n",
    "        assert value!=None, \"Value cannot be none\"\n",
    "        if value in Node_map:\n",
    "            Node_map[value].add_neighbours(Node_map = Node_map, neighbours = neighbours)\n",
    "            return\n",
    "        \n",
    "        self.value = value\n",
    "        Node_map[value] = self\n",
    "        self.neighbours = {}\n",
    "        self.add_neighbours(neighbours = neighbours,Node_map = Node_map)\n",
    "    \n",
    "    def add_neighbours(self, Node_map, neighbours = {}):\n",
    "        for neighbour, weight in neighbours.items():\n",
    "            if neighbour not in Node_map:\n",
    "                n = Node(value = neighbour, Node_map= Node_map)\n",
    "                \n",
    "            self.neighbours[neighbour] = weight\n",
    "            \n",
    "class Graph:\n",
    "    def __init__(self):\n",
    "        self.Node_map = {}\n",
    "        \n",
    "    def add_node(self, value = None, neighbours = {}):\n",
    "        node = Node(value = value,neighbours = neighbours,Node_map = self.Node_map)\n",
    "    \n",
    "    def add_neighbours(self,value = None, neighbours = {}):\n",
    "        assert value in self.Node_map, \"Node doesn't exist\"\n",
    "        self.Node_map[value].add_neighbours(neighbours = neighbours,Node_map = self.Node_map)\n",
    "    \n",
    "    def print_graph(self):\n",
    "        for key, value in self.Node_map.items():\n",
    "            print(f\"key: {key}, value: {value.neighbours}\")\n",
    "        \n",
    "    def uniform_search(self,source = None, goal = None):\n",
    "        assert source != None and goal != None, \"Source and goal node cannot be None\"\n",
    "        assert source in self.Node_map and goal in self.Node_map, \"Source or Goal node doesn't exist\"\n",
    "        \n",
    "        parent = {source: (None,0)}\n",
    "        visited = set()\n",
    "        min_queue = PriorityQueue()\n",
    "        min_queue.put(source)\n",
    "        \n",
    "        while(True):\n",
    "            node = min_queue.get()\n",
    "            if node == goal:\n",
    "                break\n",
    "            visited.add(min_queue)\n",
    "            \n",
    "            for neighbour, weight in self.Node_map[node].neighbours.items():\n",
    "                if neighbour in visited:\n",
    "                    continue\n",
    "                min_queue.put(neighbour)\n",
    "                if neighbour in parent:\n",
    "                    if weight < self.Node_map[parent[neighbour][0]].neighbours[neighbour]:\n",
    "                        parent[neighbour] = (node,weight)\n",
    "                else:\n",
    "                    parent[neighbour] = (node,weight)\n",
    "                    \n",
    "        node  = goal\n",
    "        ls = []\n",
    "        \n",
    "        total = 0\n",
    "        while(parent[node][0]):\n",
    "            total += parent[node][1]\n",
    "            ls.append((node,parent[node][1]))\n",
    "            node = parent[node][0]\n",
    "        ls.append((source,0))\n",
    "        ls.reverse()\n",
    "        for x in ls:\n",
    "            print(f\"Node={x[0]}, Weight={x[1]}-->\",end=\"\")\n",
    "        print(\"None\")\n",
    "        print(f\"Total weight= {total}\")"
   ]
  },
  {
   "cell_type": "code",
   "execution_count": 147,
   "id": "ba10ac12",
   "metadata": {},
   "outputs": [],
   "source": [
    "g = Graph()"
   ]
  },
  {
   "cell_type": "code",
   "execution_count": 148,
   "id": "e6237ea8",
   "metadata": {},
   "outputs": [
    {
     "name": "stdout",
     "output_type": "stream",
     "text": [
      "key: S, value: {'A': 1, 'G': 12}\n",
      "key: A, value: {'B': 3, 'C': 1}\n",
      "key: G, value: {}\n",
      "key: B, value: {'D': 3}\n",
      "key: C, value: {'D': 1, 'G': 2}\n",
      "key: D, value: {'G': 3}\n"
     ]
    }
   ],
   "source": [
    "g.add_node(\"S\",{\"A\":1, \"G\": 12})\n",
    "g.add_node(\"A\",{\"B\":3, \"C\":1})\n",
    "g.add_node(\"B\",{\"D\":3})\n",
    "g.add_node(\"C\",{\"D\":1,\"G\":2})\n",
    "g.add_node(\"D\",{\"G\":3})\n",
    "g.print_graph()"
   ]
  },
  {
   "cell_type": "code",
   "execution_count": 149,
   "id": "9e9fd39d",
   "metadata": {},
   "outputs": [
    {
     "name": "stdout",
     "output_type": "stream",
     "text": [
      "Node=S, Weight=0-->Node=A, Weight=1-->Node=C, Weight=1-->Node=G, Weight=2-->None\n",
      "Total weight= 4\n"
     ]
    }
   ],
   "source": [
    "g.uniform_search(source=\"S\", goal=\"G\")"
   ]
  }
 ],
 "metadata": {
  "kernelspec": {
   "display_name": "Python 3 (ipykernel)",
   "language": "python",
   "name": "python3"
  },
  "language_info": {
   "codemirror_mode": {
    "name": "ipython",
    "version": 3
   },
   "file_extension": ".py",
   "mimetype": "text/x-python",
   "name": "python",
   "nbconvert_exporter": "python",
   "pygments_lexer": "ipython3",
   "version": "3.8.8"
  }
 },
 "nbformat": 4,
 "nbformat_minor": 5
}
