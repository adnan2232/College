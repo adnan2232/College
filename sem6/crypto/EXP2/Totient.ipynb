{
 "cells": [
  {
   "cell_type": "code",
   "execution_count": 7,
   "id": "701c7740",
   "metadata": {},
   "outputs": [
    {
     "name": "stdout",
     "output_type": "stream",
     "text": [
      "Enter number to find its totient value: 848\n",
      "totient_value = 416\n"
     ]
    }
   ],
   "source": [
    "def gcd(a,b):\n",
    "    if not b:\n",
    "        return a\n",
    "    return gcd(b,a%b)\n",
    "\n",
    "def coprime(a,b):\n",
    "    return gcd(a,b) == 1\n",
    "\n",
    "def totient(n):\n",
    "    assert n>0, \"Number should be greater than 0\"\n",
    "    totient_set ={1}\n",
    "    i = n-1\n",
    "    while(i>1):\n",
    "        if coprime(n,i):\n",
    "            totient_set.add(i)\n",
    "        i -= 1\n",
    "    \n",
    "    return totient_set, len(totient_set)\n",
    "    \n",
    "totient_set, totient_value = totient(int(input(\"Enter number to find its totient value: \")))\n",
    "\n",
    "print(f\"totient_value = {totient_value}\")"
   ]
  },
  {
   "cell_type": "code",
   "execution_count": null,
   "id": "881a6fb3",
   "metadata": {},
   "outputs": [],
   "source": []
  }
 ],
 "metadata": {
  "kernelspec": {
   "display_name": "Python 3 (ipykernel)",
   "language": "python",
   "name": "python3"
  },
  "language_info": {
   "codemirror_mode": {
    "name": "ipython",
    "version": 3
   },
   "file_extension": ".py",
   "mimetype": "text/x-python",
   "name": "python",
   "nbconvert_exporter": "python",
   "pygments_lexer": "ipython3",
   "version": "3.8.8"
  }
 },
 "nbformat": 4,
 "nbformat_minor": 5
}
