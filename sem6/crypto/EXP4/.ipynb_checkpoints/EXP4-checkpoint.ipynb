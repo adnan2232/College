{
 "cells": [
  {
   "cell_type": "code",
   "execution_count": 13,
   "id": "6a0ddfbd",
   "metadata": {},
   "outputs": [],
   "source": [
    "import string\n",
    "\n",
    "class CrackPassword:\n",
    "    \n",
    "    def __init__(self, password = None):\n",
    "        self.check_password(password)\n",
    "        self.password = password\n",
    "        \n",
    "    def check_password(self,password):\n",
    "        assert password != None, \"Password cannot be None\"\n",
    "        assert len(password) == 4 and password.islower(), 'Password should be of length 4 and it should contain lower case alphabet'\n",
    "        \n",
    "    def change_password(self,password = None):\n",
    "        self.check_password(password)\n",
    "        self.password = password\n",
    "       \n",
    "    def crack_password(self):\n",
    "        self.check_password(self.password)\n",
    "        iterated = 0\n",
    "        guess = \"\"\n",
    "        \n",
    "        for x in self.password:\n",
    "            for y in string.ascii_lowercase:\n",
    "                iterated += 1\n",
    "                if x == y:\n",
    "                    guess += y\n",
    "                    break\n",
    "                    \n",
    "        return (guess,iterated)\n",
    "        "
   ]
  },
  {
   "cell_type": "code",
   "execution_count": 17,
   "id": "90a4c647",
   "metadata": {},
   "outputs": [],
   "source": [
    "pass1 = CrackPassword(\"hell\")"
   ]
  },
  {
   "cell_type": "code",
   "execution_count": null,
   "id": "be3d7b8c",
   "metadata": {},
   "outputs": [],
   "source": []
  },
  {
   "cell_type": "code",
   "execution_count": null,
   "id": "771cd562",
   "metadata": {},
   "outputs": [],
   "source": []
  }
 ],
 "metadata": {
  "kernelspec": {
   "display_name": "Python 3 (ipykernel)",
   "language": "python",
   "name": "python3"
  },
  "language_info": {
   "codemirror_mode": {
    "name": "ipython",
    "version": 3
   },
   "file_extension": ".py",
   "mimetype": "text/x-python",
   "name": "python",
   "nbconvert_exporter": "python",
   "pygments_lexer": "ipython3",
   "version": "3.8.8"
  }
 },
 "nbformat": 4,
 "nbformat_minor": 5
}
