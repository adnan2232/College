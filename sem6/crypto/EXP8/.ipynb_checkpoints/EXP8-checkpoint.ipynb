{
 "cells": [
  {
   "cell_type": "code",
   "execution_count": 1,
   "metadata": {},
   "outputs": [],
   "source": [
    "import random\n",
    "import math\n",
    "\n",
    "\n",
    "def check_multiplicative_inverse(x,y):\n",
    "    if not y:\n",
    "        return x\n",
    "        \n",
    "    return check_multiplicative_inverse(y,x%y)\n",
    "    \n",
    "class DH:\n",
    "    \n",
    "    def __init__(self,prime):\n",
    "        assert self.check_prime(prime), \"Number is not prime\"\n",
    "        self.prime = prime\n",
    "        \n",
    "        self.relative_primes = []\n",
    "        for x in range(2,self.prime):\n",
    "            if check_multiplicative_inverse(self.prime,x) == 1:\n",
    "                self.relative_primes.append(x)\n",
    "        self.generator = random.choice(self.relative_primes)\n",
    "        \n",
    "        self.alice_R_one()\n",
    "        self.bob_R_two()\n",
    "        self.alice_secret_key()\n",
    "        self.bob_secret_key()\n",
    "    \n",
    "    def check_prime(self,prime):\n",
    "        \n",
    "        if prime == 1:\n",
    "            return False\n",
    "        if prime == 2:\n",
    "            return True\n",
    "        if not prime%2:\n",
    "            return False\n",
    "        \n",
    "      \n",
    "        \n",
    "        for x in range(3,math.ceil(math.sqrt(prime))):\n",
    "            if not prime%x:\n",
    "                return False\n",
    "        return True\n",
    "    \n",
    "    def alice_R_one(self):\n",
    "        self.x = random.randint(0,self.prime)\n",
    "        self.R_one = pow(self.generator,self.x,self.prime)\n",
    "        \n",
    "    def bob_R_two(self):\n",
    "        self.y = random.randint(0,self.prime)\n",
    "        self.R_two = pow(self.generator,self.y,self.prime)\n",
    "        \n",
    "    def alice_secret_key(self):\n",
    "        self.key_A = pow(self.R_two,self.x,self.prime)\n",
    "            \n",
    "    \n",
    "    def bob_secret_key(self):\n",
    "        self.key_B = pow(self.R_one,self.y,self.prime)\n",
    "    \n",
    "\n",
    "                       \n"
   ]
  },
  {
   "cell_type": "code",
   "execution_count": 2,
   "metadata": {},
   "outputs": [
    {
     "name": "stdout",
     "output_type": "stream",
     "text": [
      "Secret key of Alice: 58\n",
      "Secret key of Bob: 58\n"
     ]
    }
   ],
   "source": [
    "obj = DH(61)"
   ]
  },
  {
   "cell_type": "code",
   "execution_count": 3,
   "metadata": {},
   "outputs": [
    {
     "data": {
      "text/plain": [
       "45"
      ]
     },
     "execution_count": 3,
     "metadata": {},
     "output_type": "execute_result"
    }
   ],
   "source": [
    "obj.generator\n"
   ]
  },
  {
   "cell_type": "code",
   "execution_count": 4,
   "metadata": {},
   "outputs": [
    {
     "data": {
      "text/plain": [
       "36"
      ]
     },
     "execution_count": 4,
     "metadata": {},
     "output_type": "execute_result"
    }
   ],
   "source": [
    "obj.x"
   ]
  },
  {
   "cell_type": "code",
   "execution_count": 5,
   "metadata": {},
   "outputs": [
    {
     "data": {
      "text/plain": [
       "29"
      ]
     },
     "execution_count": 5,
     "metadata": {},
     "output_type": "execute_result"
    }
   ],
   "source": [
    "obj.y"
   ]
  },
  {
   "cell_type": "code",
   "execution_count": 6,
   "metadata": {},
   "outputs": [
    {
     "data": {
      "text/plain": [
       "20"
      ]
     },
     "execution_count": 6,
     "metadata": {},
     "output_type": "execute_result"
    }
   ],
   "source": [
    "obj.R_one"
   ]
  },
  {
   "cell_type": "code",
   "execution_count": 7,
   "metadata": {},
   "outputs": [
    {
     "data": {
      "text/plain": [
       "19"
      ]
     },
     "execution_count": 7,
     "metadata": {},
     "output_type": "execute_result"
    }
   ],
   "source": [
    "obj.R_two"
   ]
  },
  {
   "cell_type": "code",
   "execution_count": 8,
   "metadata": {},
   "outputs": [
    {
     "data": {
      "text/plain": [
       "61"
      ]
     },
     "execution_count": 8,
     "metadata": {},
     "output_type": "execute_result"
    }
   ],
   "source": [
    "obj.prime"
   ]
  },
  {
   "cell_type": "code",
   "execution_count": null,
   "metadata": {},
   "outputs": [],
   "source": []
  }
 ],
 "metadata": {
  "kernelspec": {
   "display_name": "Python 3 (ipykernel)",
   "language": "python",
   "name": "python3"
  },
  "language_info": {
   "codemirror_mode": {
    "name": "ipython",
    "version": 3
   },
   "file_extension": ".py",
   "mimetype": "text/x-python",
   "name": "python",
   "nbconvert_exporter": "python",
   "pygments_lexer": "ipython3",
   "version": "3.8.8"
  }
 },
 "nbformat": 4,
 "nbformat_minor": 4
}
