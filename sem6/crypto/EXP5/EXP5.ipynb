{
 "cells": [
  {
   "cell_type": "code",
   "execution_count": 138,
   "id": "e7699f04",
   "metadata": {},
   "outputs": [],
   "source": [
    "import math\n",
    "import random"
   ]
  },
  {
   "cell_type": "code",
   "execution_count": 280,
   "id": "b1820aca",
   "metadata": {},
   "outputs": [],
   "source": [
    "#implementation of RSA key generation algorithm and encryption, decryption using same key\n",
    "\n",
    "def gcd(a,b):\n",
    "        if not b:\n",
    "            return a\n",
    "        return gcd(b,a%b)\n",
    "    \n",
    "class RSA: \n",
    "    def __init__(self):\n",
    "        self.primes = []\n",
    "        self.generate_totient()\n",
    "        self.generate_public_key_inverse_key()\n",
    "        self.generate_private_key()\n",
    "        \n",
    "    def generate_random_prime(self):\n",
    "        self.primes.append(2)\n",
    "        for i in range(3,200):\n",
    "            if not i%2:\n",
    "                continue\n",
    "            Flag = True   \n",
    "            for j in range(2,i):\n",
    "                if not i%j:\n",
    "                    Flag = False\n",
    "                    break\n",
    "            if Flag:\n",
    "                self.primes.append(i)\n",
    "                \n",
    "    def select_primes(self):\n",
    "        self.generate_random_prime()\n",
    "        p = random.sample(self.primes, 1)[0]\n",
    "        q = p \n",
    "        while(q == p):\n",
    "            q = random.sample(self.primes, 1)[0]\n",
    "        self.p = p\n",
    "        self.q = q\n",
    "        \n",
    "    def generate_totient(self):\n",
    "        self.select_primes()\n",
    "        self.n = self.p * self.q\n",
    "        self.totient_n = (self.p-1)*(self.q-1)\n",
    "        \n",
    "    def multiplicative_inverse(self):\n",
    "        r1,r2,t1,t2 = self.e,self.totient_n,0,1\n",
    "        while(r2>0):\n",
    "            q = r1//r2\n",
    "            r = r1 - q*r2\n",
    "            r1,r2 = r2,r\n",
    "\n",
    "            t = t1 - q*t2\n",
    "            t1,t2 = t2,t\n",
    "        \n",
    "        '''if t1 < 0:\n",
    "            t1 += self.totient_n'''\n",
    "        self.e_inverse = t1\n",
    "    \n",
    "    def generate_public_key_inverse_key(self):\n",
    "        ls = [x for x in range(2,self.totient_n)]\n",
    "        e = None\n",
    "        ls = random.sample(ls,len(ls))\n",
    "        for x in ls:\n",
    "            k = gcd(self.totient_n,x)\n",
    "            if k == 1:\n",
    "                e = x\n",
    "                break\n",
    "        self.e = e\n",
    "        self.multiplicative_inverse()\n",
    "             \n",
    "    def generate_private_key(self):\n",
    "        self.d = self.e_inverse % self.totient_n\n",
    "        \n",
    "    def fast_expo(self,plain_txt,key):\n",
    "        return (plain_txt**key)%self.n\n",
    "    \n",
    "    def encryption(self,plain_txt):\n",
    "        return self.fast_expo(plain_txt,self.e)\n",
    "    \n",
    "    def decryption(self, cipher_txt):\n",
    "        return self.fast_expo(cipher_txt, self.d)\n",
    "            \n",
    "            \n",
    "        "
   ]
  },
  {
   "cell_type": "code",
   "execution_count": 286,
   "id": "9de0437e",
   "metadata": {},
   "outputs": [],
   "source": [
    "g = RSA()"
   ]
  },
  {
   "cell_type": "code",
   "execution_count": 287,
   "id": "5205266f",
   "metadata": {},
   "outputs": [
    {
     "name": "stdout",
     "output_type": "stream",
     "text": [
      "p = 139, q = 113, n = 15707, totient_n = 15456 public_key = 12979 public_key_inverse = -5397 private_key = 10059\n"
     ]
    }
   ],
   "source": [
    "print(f\"p = {g.p}, q = {g.q}, n = {g.n}, totient_n = {g.totient_n} public_key = {g.e} public_key_inverse = {g.e_inverse} private_key = {g.d}\")"
   ]
  },
  {
   "cell_type": "code",
   "execution_count": 288,
   "id": "9af0e2f8",
   "metadata": {},
   "outputs": [
    {
     "data": {
      "text/plain": [
       "11461"
      ]
     },
     "execution_count": 288,
     "metadata": {},
     "output_type": "execute_result"
    }
   ],
   "source": [
    "g.encryption(600)"
   ]
  },
  {
   "cell_type": "code",
   "execution_count": 289,
   "id": "28d9176a",
   "metadata": {},
   "outputs": [
    {
     "data": {
      "text/plain": [
       "2860"
      ]
     },
     "execution_count": 289,
     "metadata": {},
     "output_type": "execute_result"
    }
   ],
   "source": [
    "g.decryption(11461)"
   ]
  },
  {
   "cell_type": "code",
   "execution_count": null,
   "id": "d375393b",
   "metadata": {},
   "outputs": [],
   "source": []
  },
  {
   "cell_type": "code",
   "execution_count": null,
   "id": "83298c33",
   "metadata": {},
   "outputs": [],
   "source": []
  }
 ],
 "metadata": {
  "kernelspec": {
   "display_name": "Python 3 (ipykernel)",
   "language": "python",
   "name": "python3"
  },
  "language_info": {
   "codemirror_mode": {
    "name": "ipython",
    "version": 3
   },
   "file_extension": ".py",
   "mimetype": "text/x-python",
   "name": "python",
   "nbconvert_exporter": "python",
   "pygments_lexer": "ipython3",
   "version": "3.8.8"
  }
 },
 "nbformat": 4,
 "nbformat_minor": 5
}
