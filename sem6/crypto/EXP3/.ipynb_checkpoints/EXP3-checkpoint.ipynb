{
 "cells": [
  {
   "cell_type": "code",
   "execution_count": 1,
   "id": "2c5900af",
   "metadata": {},
   "outputs": [
    {
     "name": "stdout",
     "output_type": "stream",
     "text": [
      "Enter key in between [1,26] for encipherment and decipherment: 5\n",
      "\n",
      "Enter a text [a-z]|[A-Z] to encode it:Python is awesome\n"
     ]
    },
    {
     "ename": "AssertionError",
     "evalue": "Plain text should only contain alphabetic character",
     "output_type": "error",
     "traceback": [
      "\u001b[1;31m---------------------------------------------------------------------------\u001b[0m",
      "\u001b[1;31mAssertionError\u001b[0m                            Traceback (most recent call last)",
      "\u001b[1;32m~\\AppData\\Local\\Temp/ipykernel_5580/2711107323.py\u001b[0m in \u001b[0;36m<module>\u001b[1;34m\u001b[0m\n\u001b[0;32m     32\u001b[0m \u001b[0mprint\u001b[0m\u001b[1;33m(\u001b[0m\u001b[1;33m)\u001b[0m\u001b[1;33m\u001b[0m\u001b[1;33m\u001b[0m\u001b[0m\n\u001b[0;32m     33\u001b[0m \u001b[1;33m\u001b[0m\u001b[0m\n\u001b[1;32m---> 34\u001b[1;33m \u001b[0mz\u001b[0m \u001b[1;33m=\u001b[0m \u001b[0madditive\u001b[0m\u001b[1;33m.\u001b[0m\u001b[0mencode\u001b[0m\u001b[1;33m(\u001b[0m\u001b[0minput\u001b[0m\u001b[1;33m(\u001b[0m\u001b[1;34m\"Enter a text [a-z]|[A-Z] to encode it:\"\u001b[0m\u001b[1;33m)\u001b[0m\u001b[1;33m)\u001b[0m\u001b[1;33m\u001b[0m\u001b[1;33m\u001b[0m\u001b[0m\n\u001b[0m\u001b[0;32m     35\u001b[0m \u001b[0my\u001b[0m \u001b[1;33m=\u001b[0m \u001b[0madditive\u001b[0m\u001b[1;33m.\u001b[0m\u001b[0mdecode\u001b[0m\u001b[1;33m(\u001b[0m\u001b[0mz\u001b[0m\u001b[1;33m)\u001b[0m\u001b[1;33m\u001b[0m\u001b[1;33m\u001b[0m\u001b[0m\n\u001b[0;32m     36\u001b[0m \u001b[0mprint\u001b[0m\u001b[1;33m(\u001b[0m\u001b[1;34mf\"Plain text = {y}, Cipher text = {z}\\n\\n\"\u001b[0m\u001b[1;33m)\u001b[0m\u001b[1;33m\u001b[0m\u001b[1;33m\u001b[0m\u001b[0m\n",
      "\u001b[1;32m~\\AppData\\Local\\Temp/ipykernel_5580/2711107323.py\u001b[0m in \u001b[0;36mencode\u001b[1;34m(self, plain_txt)\u001b[0m\n\u001b[0;32m     12\u001b[0m \u001b[1;33m\u001b[0m\u001b[0m\n\u001b[0;32m     13\u001b[0m     \u001b[1;32mdef\u001b[0m \u001b[0mencode\u001b[0m\u001b[1;33m(\u001b[0m\u001b[0mself\u001b[0m\u001b[1;33m,\u001b[0m \u001b[0mplain_txt\u001b[0m\u001b[1;33m)\u001b[0m\u001b[1;33m:\u001b[0m\u001b[1;33m\u001b[0m\u001b[1;33m\u001b[0m\u001b[0m\n\u001b[1;32m---> 14\u001b[1;33m         \u001b[1;32massert\u001b[0m \u001b[0mplain_txt\u001b[0m\u001b[1;33m.\u001b[0m\u001b[0misalpha\u001b[0m\u001b[1;33m(\u001b[0m\u001b[1;33m)\u001b[0m\u001b[1;33m,\u001b[0m \u001b[1;34m\"Plain text should only contain alphabetic character\"\u001b[0m\u001b[1;33m\u001b[0m\u001b[1;33m\u001b[0m\u001b[0m\n\u001b[0m\u001b[0;32m     15\u001b[0m         \u001b[0mcipher_txt\u001b[0m \u001b[1;33m=\u001b[0m \u001b[1;34m\"\"\u001b[0m\u001b[1;33m\u001b[0m\u001b[1;33m\u001b[0m\u001b[0m\n\u001b[0;32m     16\u001b[0m \u001b[1;33m\u001b[0m\u001b[0m\n",
      "\u001b[1;31mAssertionError\u001b[0m: Plain text should only contain alphabetic character"
     ]
    }
   ],
   "source": [
    "import numpy as np\n",
    "import string\n",
    "\n",
    "class AdditiveCipher:\n",
    "    \n",
    "    def __init__(self, key = np.random.randint(1,26)):\n",
    "        assert 1<=key<= 25, \"Key should be in between [1,25]\" \n",
    "        self.domain = 26\n",
    "        self.key = key\n",
    "        self.map = {key:value for key,value in zip(list(string.ascii_uppercase),range(0,26))}\n",
    "        self.reverse_map = {value:key for key,value in self.map.items()}\n",
    "    \n",
    "    def encode(self, plain_txt):\n",
    "        plain_txt = plain_txt.replace(\" \",\"\")\n",
    "        assert plain_txt.isalpha() or plain_txt, \"Plain text should only contain alphabetic character\"\n",
    "        cipher_txt = \"\"\n",
    "    \n",
    "        for txt in plain_txt:\n",
    "            cipher_txt += self.reverse_map[(self.map[txt.upper()]+self.key)%self.domain]\n",
    "            \n",
    "        return cipher_txt\n",
    "            \n",
    "    def decode(self, cipher_txt):\n",
    "        assert cipher_txt.isupper() and cipher_txt.isalpha(), \"Cipher text should only contain uppercase alphabetic character\"\n",
    "        plain_txt = \"\"\n",
    "        \n",
    "        for txt in cipher_txt:\n",
    "            plain_txt += self.reverse_map[(self.map[txt]-self.key)%self.domain].lower()\n",
    "            \n",
    "        return plain_txt\n",
    "    \n",
    "additive = AdditiveCipher(int(input(\"Enter key in between [1,26] for encipherment and decipherment: \")))\n",
    "print()\n",
    "\n",
    "z = additive.encode(input(\"Enter a text [a-z]|[A-Z] to encode it:\"))\n",
    "y = additive.decode(z)\n",
    "print(f\"Plain text = {y}, Cipher text = {z}\\n\\n\")\n",
    "\n",
    "z = additive.decode(input(\"Enter a text [A-Z] to decode it:\"))\n",
    "y = additive.encode(z)\n",
    "print(f\"Plain text = {z}, Cipher text = {y}\")\n"
   ]
  },
  {
   "cell_type": "code",
   "execution_count": null,
   "id": "4a7ba51a",
   "metadata": {},
   "outputs": [],
   "source": []
  },
  {
   "cell_type": "code",
   "execution_count": null,
   "id": "6ea04a2e",
   "metadata": {},
   "outputs": [],
   "source": []
  }
 ],
 "metadata": {
  "kernelspec": {
   "display_name": "Python 3 (ipykernel)",
   "language": "python",
   "name": "python3"
  },
  "language_info": {
   "codemirror_mode": {
    "name": "ipython",
    "version": 3
   },
   "file_extension": ".py",
   "mimetype": "text/x-python",
   "name": "python",
   "nbconvert_exporter": "python",
   "pygments_lexer": "ipython3",
   "version": "3.8.8"
  }
 },
 "nbformat": 4,
 "nbformat_minor": 5
}
