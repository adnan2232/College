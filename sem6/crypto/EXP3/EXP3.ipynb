{
 "cells": [
  {
   "cell_type": "code",
   "execution_count": 10,
   "id": "2c5900af",
   "metadata": {},
   "outputs": [
    {
     "name": "stdout",
     "output_type": "stream",
     "text": [
      "Enter key in between [1,26] for encipherment and decipherment: 10\n",
      "\n",
      "Enter a text [a-z]|[A-Z] to encode it:Area of accuracy between Frequency and Time remain constant in Wavelet transform\n",
      "Plain text = areaofaccuracybetweenfrequencyandtimeremainconstantinwavelettransform, Cipher text = KBOKYPKMMEBKMILODGOOXPBOAEOXMIKXNDSWOBOWKSXMYXCDKXDSXGKFOVODDBKXCPYBW\n",
      "\n",
      "\n",
      "Enter a text [A-Z] to decode it:KBOKYPKMMEBKMILODGOOXPBOAEOXMIKXNDSWOBOWKSXMYXCDKXDSXGKFOVODDBKXCPYBW\n",
      "Plain text = areaofaccuracybetweenfrequencyandtimeremainconstantinwavelettransform, Cipher text = KBOKYPKMMEBKMILODGOOXPBOAEOXMIKXNDSWOBOWKSXMYXCDKXDSXGKFOVODDBKXCPYBW\n"
     ]
    }
   ],
   "source": [
    "import numpy as np\n",
    "import string\n",
    "\n",
    "class AdditiveCipher:\n",
    "    \n",
    "    def __init__(self, key = np.random.randint(1,26)):\n",
    "        assert 1<=key<= 25, \"Key should be in between [1,25]\" \n",
    "        self.domain = 26\n",
    "        self.key = key\n",
    "        self.map = {key:value for key,value in zip(list(string.ascii_uppercase),range(0,26))}\n",
    "        self.reverse_map = {value:key for key,value in self.map.items()}\n",
    "    \n",
    "    def encode(self, plain_txt):\n",
    "        plain_txt = plain_txt.replace(\" \",\"\")\n",
    "        assert plain_txt.isalpha() or plain_txt, \"Plain text should only contain alphabetic character\"\n",
    "        cipher_txt = \"\"\n",
    "    \n",
    "        for txt in plain_txt:\n",
    "            cipher_txt += self.reverse_map[(self.map[txt.upper()]+self.key)%self.domain]\n",
    "            \n",
    "        return cipher_txt\n",
    "            \n",
    "    def decode(self, cipher_txt):\n",
    "        assert cipher_txt.isupper() and cipher_txt.isalpha(), \"Cipher text should only contain uppercase alphabetic character\"\n",
    "        plain_txt = \"\"\n",
    "        \n",
    "        for txt in cipher_txt:\n",
    "            plain_txt += self.reverse_map[(self.map[txt]-self.key)%self.domain].lower()\n",
    "            \n",
    "        return plain_txt\n",
    "    \n",
    "additive = AdditiveCipher(int(input(\"Enter key in between [1,26] for encipherment and decipherment: \")))\n",
    "print()\n",
    "\n",
    "z = additive.encode(input(\"Enter a text [a-z]|[A-Z] to encode it:\"))\n",
    "y = additive.decode(z)\n",
    "print(f\"Plain text = {y}, Cipher text = {z}\\n\\n\")\n",
    "\n",
    "z = additive.decode(input(\"Enter a text [A-Z] to decode it:\"))\n",
    "y = additive.encode(z)\n",
    "print(f\"Plain text = {z}, Cipher text = {y}\")\n"
   ]
  },
  {
   "cell_type": "code",
   "execution_count": null,
   "id": "2665087e",
   "metadata": {},
   "outputs": [],
   "source": []
  }
 ],
 "metadata": {
  "kernelspec": {
   "display_name": "Python 3 (ipykernel)",
   "language": "python",
   "name": "python3"
  },
  "language_info": {
   "codemirror_mode": {
    "name": "ipython",
    "version": 3
   },
   "file_extension": ".py",
   "mimetype": "text/x-python",
   "name": "python",
   "nbconvert_exporter": "python",
   "pygments_lexer": "ipython3",
   "version": "3.8.8"
  }
 },
 "nbformat": 4,
 "nbformat_minor": 5
}
