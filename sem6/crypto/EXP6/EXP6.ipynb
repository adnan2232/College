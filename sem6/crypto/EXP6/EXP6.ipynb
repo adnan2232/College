{
 "cells": [
  {
   "cell_type": "code",
   "execution_count": 3,
   "id": "59c1e0fd",
   "metadata": {},
   "outputs": [
    {
     "name": "stdout",
     "output_type": "stream",
     "text": [
      "key = Adnan is a human\n",
      "Equivalent MD5 hexadecimal digest = a235b8e8f838ea6096318e4e3cdfb920\n",
      "\n",
      "key = Humans are mamals\n",
      "Equivalent MD5 hexadecimal digest = 5a55ebe77084688bf175b64fe537334c\n",
      "\n",
      "key = Adnan is a mamal\n",
      "Equivalent MD5 hexadecimal digest = 2dddc6e1eec9674281626983e03798dd\n",
      "\n",
      "Given string: Adnan is a human\n",
      "MD5 hexadecimal digest value of given string: a235b8e8f838ea6096318e4e3cdfb920\n",
      "present in digest_keys True\n",
      "\n",
      "Given string: Adnan is not a human\n",
      "MD5 hexadecimal digest value of given string: 959be596779c379e1116378ac2820539\n",
      "present in digest_keys False\n",
      "\n",
      "Given string: Humans are reptile\n",
      "MD5 hexadecimal digest value of given string: b55d5122a5da1821b8d3fbb0e01bfec0\n",
      "present in digest_keys False\n",
      "\n",
      "Given string: Humans are mamals\n",
      "MD5 hexadecimal digest value of given string: 5a55ebe77084688bf175b64fe537334c\n",
      "present in digest_keys True\n",
      "\n",
      "Given string: Adnan is a mamal\n",
      "MD5 hexadecimal digest value of given string: 2dddc6e1eec9674281626983e03798dd\n",
      "present in digest_keys True\n",
      "\n",
      "Given string: Adnan is a reptile\n",
      "MD5 hexadecimal digest value of given string: b11741565fcdde9ae5286280a9f355a8\n",
      "present in digest_keys False\n",
      "\n"
     ]
    }
   ],
   "source": [
    "import hashlib\n",
    "\n",
    "class MD5:\n",
    "    \n",
    "    def __init__(self):\n",
    "        self.__keys = [\"Adnan is a human\", \"Humans are mamals\", \"Adnan is a mamal\"]\n",
    "\n",
    "        self.digest_keys = [self.digest(key) for key in self.__keys]\n",
    "\n",
    "        for key, digest_key in zip(self.__keys,self.digest_keys):\n",
    "            print(f\"key = {key}\\nEquivalent MD5 hexadecimal digest = {digest_key}\\n\")\n",
    "            \n",
    "    def digest(self,string):\n",
    "        return hashlib.md5(string.encode()).hexdigest()\n",
    "            \n",
    "    def check_in_digest_keys(self,string):\n",
    "        return self.digest(string) in self.digest_keys   \n",
    "            \n",
    "    def digest_strings(self,strings):\n",
    "        \n",
    "        for x in strings:\n",
    "            print(f\"Given string: {x}\\nMD5 hexadecimal digest value of given string: {self.digest(x)}\")\n",
    "            print(f\"present in digest_keys {self.check_in_digest_keys(x)}\\n\")\n",
    "            \n",
    "obj = MD5()\n",
    "given_strings = [\n",
    "                 \"Adnan is a human\", \"Adnan is not a human\",\n",
    "                 \"Humans are reptile\", \"Humans are mamals\",\n",
    "                 \"Adnan is a mamal\", \"Adnan is a reptile\"\n",
    "                ]\n",
    "obj.digest_strings(given_strings)"
   ]
  },
  {
   "cell_type": "code",
   "execution_count": null,
   "id": "aad07be9",
   "metadata": {},
   "outputs": [],
   "source": []
  }
 ],
 "metadata": {
  "kernelspec": {
   "display_name": "Python 3 (ipykernel)",
   "language": "python",
   "name": "python3"
  },
  "language_info": {
   "codemirror_mode": {
    "name": "ipython",
    "version": 3
   },
   "file_extension": ".py",
   "mimetype": "text/x-python",
   "name": "python",
   "nbconvert_exporter": "python",
   "pygments_lexer": "ipython3",
   "version": "3.8.8"
  }
 },
 "nbformat": 4,
 "nbformat_minor": 5
}
