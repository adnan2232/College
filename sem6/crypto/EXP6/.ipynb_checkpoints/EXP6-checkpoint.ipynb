{
 "cells": [
  {
   "cell_type": "code",
   "execution_count": 36,
   "id": "f7fa52bd",
   "metadata": {},
   "outputs": [
    {
     "name": "stdout",
     "output_type": "stream",
     "text": [
      "key = Adnan is a human\n",
      "Equivalent Sha1 hexadecimal digest = b534ccf13fdcdf68ef0ba785c891f3ce6b082ab6\n",
      "\n",
      "key = Humans are mamals\n",
      "Equivalent Sha1 hexadecimal digest = 01692710f02ef3368ff45b21c96975ac492dc059\n",
      "\n",
      "key = Adnan is a mamal\n",
      "Equivalent Sha1 hexadecimal digest = ecda2d5fcb7338c1418adef04862a16c05e70f27\n",
      "\n",
      "Given string: Adnan is a human\n",
      "Sha1 hexadecimal digest value of given string: b534ccf13fdcdf68ef0ba785c891f3ce6b082ab6\n",
      "present in digest_keys True\n",
      "\n",
      "Given string: Adnan is not a human\n",
      "Sha1 hexadecimal digest value of given string: 220c34a00d4e3010da7de455d40682fc94cb549d\n",
      "present in digest_keys False\n",
      "\n",
      "Given string: Humans are reptile\n",
      "Sha1 hexadecimal digest value of given string: 461b008a39d7f033f1f001851ee0bd1ae1c448f3\n",
      "present in digest_keys False\n",
      "\n",
      "Given string: Humans are mamals\n",
      "Sha1 hexadecimal digest value of given string: 01692710f02ef3368ff45b21c96975ac492dc059\n",
      "present in digest_keys True\n",
      "\n",
      "Given string: Adnan is a mamal\n",
      "Sha1 hexadecimal digest value of given string: ecda2d5fcb7338c1418adef04862a16c05e70f27\n",
      "present in digest_keys True\n",
      "\n",
      "Given string: Adnan is a reptile\n",
      "Sha1 hexadecimal digest value of given string: aaa8c10433d9b74a0f64c66a4445be451f459574\n",
      "present in digest_keys False\n",
      "\n"
     ]
    }
   ],
   "source": [
    "import hashlib\n",
    "\n",
    "class SHA1:\n",
    "    \n",
    "    def __init__(self):\n",
    "        self.__keys = [\"Adnan is a human\", \"Humans are mamals\", \"Adnan is a mamal\"]\n",
    "\n",
    "        self.digest_keys = [self.digest(key) for key in self.__keys]\n",
    "\n",
    "        for key, digest_key in zip(keys,digest_keys):\n",
    "            print(f\"key = {key}\\nEquivalent Sha1 hexadecimal digest = {digest_key}\\n\")\n",
    "            \n",
    "    def digest(self,string):\n",
    "        return hashlib.sha1(string.encode()).hexdigest()\n",
    "            \n",
    "    def check_in_digest_keys(self,string):\n",
    "        return self.digest(string) in self.digest_keys   \n",
    "            \n",
    "    def digest_strings(self,strings):\n",
    "        \n",
    "        for x in strings:\n",
    "            print(f\"Given string: {x}\\nSha1 hexadecimal digest value of given string: {self.digest(x)}\")\n",
    "            print(f\"present in digest_keys {self.check_in_digest_keys(x)}\\n\")\n",
    "            \n",
    "obj = SHA1()\n",
    "given_strings = [\n",
    "                 \"Adnan is a human\", \"Adnan is not a human\",\n",
    "                 \"Humans are reptile\", \"Humans are mamals\",\n",
    "                 \"Adnan is a mamal\", \"Adnan is a reptile\"\n",
    "                ]\n",
    "obj.digest_strings(given_strings)"
   ]
  },
  {
   "cell_type": "code",
   "execution_count": null,
   "id": "578d8c1a",
   "metadata": {},
   "outputs": [],
   "source": []
  }
 ],
 "metadata": {
  "kernelspec": {
   "display_name": "Python 3 (ipykernel)",
   "language": "python",
   "name": "python3"
  },
  "language_info": {
   "codemirror_mode": {
    "name": "ipython",
    "version": 3
   },
   "file_extension": ".py",
   "mimetype": "text/x-python",
   "name": "python",
   "nbconvert_exporter": "python",
   "pygments_lexer": "ipython3",
   "version": "3.9.7"
  }
 },
 "nbformat": 4,
 "nbformat_minor": 5
}
