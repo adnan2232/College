{
 "cells": [
  {
   "cell_type": "code",
   "execution_count": 40,
   "id": "03f8370d",
   "metadata": {},
   "outputs": [],
   "source": [
    "import pandas as pd"
   ]
  },
  {
   "cell_type": "code",
   "execution_count": 41,
   "id": "580db5b3",
   "metadata": {},
   "outputs": [],
   "source": [
    "def createArrays(x):\n",
    "    for i in range(x):\n",
    "        yield list()\n"
   ]
  },
  {
   "cell_type": "code",
   "execution_count": 57,
   "id": "13c66a57",
   "metadata": {},
   "outputs": [],
   "source": [
    "def multiplicative_inverse(a,n):\n",
    "    r1,r2,t1,t2 = n,a,0,1\n",
    "    arrays = [[] for _ in range(7)]\n",
    "    \n",
    "    while(r2>0):\n",
    "        q = r1//r2\n",
    "        arrays[0].append(q), arrays[1].append(r1), arrays[2].append(r2)\n",
    "        \n",
    "        r = r1 - q*r2\n",
    "        r1,r2 = r2,r\n",
    "        arrays[3].append(r), arrays[4].append(t1), arrays[5].append(t2)\n",
    "        \n",
    "        t = t1 - q*t2\n",
    "        t1,t2 = t2,t\n",
    "        arrays[6].append(t)\n",
    "        \n",
    "    b_inverse = t1 if r1 == 1 else False\n",
    "    \n",
    "    arrays[0].append(None), arrays[1].append(r1), arrays[2].append(r2)\n",
    "    arrays[3].append(None), arrays[4].append(t1), arrays[5].append(t2)\n",
    "    arrays[6].append(None)\n",
    "    \n",
    "    table = pd.DataFrame({\n",
    "        \"q\": arrays[0],\n",
    "        \"r1\": arrays[1],\n",
    "        \"r2\": arrays[2],\n",
    "        \"r\": arrays[3],\n",
    "        \"t1\": arrays[4],\n",
    "        \"t2\": arrays[5],\n",
    "        \"t\": arrays[6]\n",
    "    })\n",
    "    \n",
    "    return b_inverse,table    "
   ]
  },
  {
   "cell_type": "code",
   "execution_count": 58,
   "id": "5d44a7b1",
   "metadata": {},
   "outputs": [
    {
     "name": "stdout",
     "output_type": "stream",
     "text": [
      "Please enter the value of two numbers to find their multiplicative inverse: 69 420\n"
     ]
    }
   ],
   "source": [
    "a,n = map(int,input(\"Please enter the value of two numbers to find their multiplicative inverse: \").strip().split(\" \"))"
   ]
  },
  {
   "cell_type": "code",
   "execution_count": 59,
   "id": "1df47cb4",
   "metadata": {},
   "outputs": [],
   "source": [
    "b_inverse,table = multiplicative_inverse(a,n)"
   ]
  },
  {
   "cell_type": "code",
   "execution_count": 60,
   "id": "df22836e",
   "metadata": {},
   "outputs": [
    {
     "name": "stdout",
     "output_type": "stream",
     "text": [
      "Inverse doesn't exist\n"
     ]
    }
   ],
   "source": [
    "if not b_inverse:\n",
    "    print(\"Inverse doesn't exist\")\n",
    "else:\n",
    "    print(f\"Inverse of b = {b_inverse+n if b_inverse<0 else b_inverse}\")"
   ]
  },
  {
   "cell_type": "code",
   "execution_count": 61,
   "id": "8915d696",
   "metadata": {},
   "outputs": [
    {
     "data": {
      "text/html": [
       "<div>\n",
       "<style scoped>\n",
       "    .dataframe tbody tr th:only-of-type {\n",
       "        vertical-align: middle;\n",
       "    }\n",
       "\n",
       "    .dataframe tbody tr th {\n",
       "        vertical-align: top;\n",
       "    }\n",
       "\n",
       "    .dataframe thead th {\n",
       "        text-align: right;\n",
       "    }\n",
       "</style>\n",
       "<table border=\"1\" class=\"dataframe\">\n",
       "  <thead>\n",
       "    <tr style=\"text-align: right;\">\n",
       "      <th></th>\n",
       "      <th>q</th>\n",
       "      <th>r1</th>\n",
       "      <th>r2</th>\n",
       "      <th>r</th>\n",
       "      <th>t1</th>\n",
       "      <th>t2</th>\n",
       "      <th>t</th>\n",
       "    </tr>\n",
       "  </thead>\n",
       "  <tbody>\n",
       "    <tr>\n",
       "      <th>0</th>\n",
       "      <td>0.0</td>\n",
       "      <td>69</td>\n",
       "      <td>420</td>\n",
       "      <td>69.0</td>\n",
       "      <td>0</td>\n",
       "      <td>1</td>\n",
       "      <td>0.0</td>\n",
       "    </tr>\n",
       "    <tr>\n",
       "      <th>1</th>\n",
       "      <td>6.0</td>\n",
       "      <td>420</td>\n",
       "      <td>69</td>\n",
       "      <td>6.0</td>\n",
       "      <td>1</td>\n",
       "      <td>0</td>\n",
       "      <td>1.0</td>\n",
       "    </tr>\n",
       "    <tr>\n",
       "      <th>2</th>\n",
       "      <td>11.0</td>\n",
       "      <td>69</td>\n",
       "      <td>6</td>\n",
       "      <td>3.0</td>\n",
       "      <td>0</td>\n",
       "      <td>1</td>\n",
       "      <td>-11.0</td>\n",
       "    </tr>\n",
       "    <tr>\n",
       "      <th>3</th>\n",
       "      <td>2.0</td>\n",
       "      <td>6</td>\n",
       "      <td>3</td>\n",
       "      <td>0.0</td>\n",
       "      <td>1</td>\n",
       "      <td>-11</td>\n",
       "      <td>23.0</td>\n",
       "    </tr>\n",
       "    <tr>\n",
       "      <th>4</th>\n",
       "      <td>NaN</td>\n",
       "      <td>3</td>\n",
       "      <td>0</td>\n",
       "      <td>NaN</td>\n",
       "      <td>-11</td>\n",
       "      <td>23</td>\n",
       "      <td>NaN</td>\n",
       "    </tr>\n",
       "  </tbody>\n",
       "</table>\n",
       "</div>"
      ],
      "text/plain": [
       "      q   r1   r2     r  t1  t2     t\n",
       "0   0.0   69  420  69.0   0   1   0.0\n",
       "1   6.0  420   69   6.0   1   0   1.0\n",
       "2  11.0   69    6   3.0   0   1 -11.0\n",
       "3   2.0    6    3   0.0   1 -11  23.0\n",
       "4   NaN    3    0   NaN -11  23   NaN"
      ]
     },
     "execution_count": 61,
     "metadata": {},
     "output_type": "execute_result"
    }
   ],
   "source": [
    "table"
   ]
  },
  {
   "cell_type": "code",
   "execution_count": null,
   "id": "96935f08",
   "metadata": {},
   "outputs": [],
   "source": []
  }
 ],
 "metadata": {
  "kernelspec": {
   "display_name": "Python 3 (ipykernel)",
   "language": "python",
   "name": "python3"
  },
  "language_info": {
   "codemirror_mode": {
    "name": "ipython",
    "version": 3
   },
   "file_extension": ".py",
   "mimetype": "text/x-python",
   "name": "python",
   "nbconvert_exporter": "python",
   "pygments_lexer": "ipython3",
   "version": "3.8.8"
  }
 },
 "nbformat": 4,
 "nbformat_minor": 5
}
