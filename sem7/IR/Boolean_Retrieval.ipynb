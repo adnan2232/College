{
 "cells": [
  {
   "cell_type": "code",
   "execution_count": 70,
   "id": "177d399f",
   "metadata": {},
   "outputs": [],
   "source": [
    "from nltk.book import *\n",
    "import numpy as np\n",
    "import pandas as pd\n",
    "from nltk.tokenize import word_tokenize\n",
    "from essential_generators import DocumentGenerator"
   ]
  },
  {
   "cell_type": "code",
   "execution_count": 119,
   "id": "0ff7d613",
   "metadata": {},
   "outputs": [],
   "source": [
    "class Boolean_Retrieval:\n",
    "    \n",
    "    def __init__(self,documents):\n",
    "        \n",
    "        self.documents = []\n",
    "        self.tokenized_document = {}\n",
    "        self._total_documents = 0\n",
    "        self.inverted_index = {}\n",
    "        self.add_document(documents)\n",
    "        \n",
    "    def add_document(self,documents):\n",
    "        assert type(documents) == list or type(documents) == str, \"Type must string or list of strings\"  \n",
    "        if type(documents) == str:\n",
    "            documents = [documents]\n",
    "            \n",
    "        for document in documents:\n",
    "            self._total_documents += 1\n",
    "            self.documents.append(document)\n",
    "            self.tokenized_document[self._total_documents] = word_tokenize(document)\n",
    "            self._create_inverted_index()\n",
    "        \n",
    "    \n",
    "    def _create_inverted_index(self):\n",
    "        \n",
    "        for word in self.tokenized_document[self._total_documents]:\n",
    "            if word in self.inverted_index:\n",
    "                self.inverted_index[word].add(self._total_documents)\n",
    "            else:\n",
    "                self.inverted_index[word] = set([self._total_documents])\n",
    "                    \n",
    "    \n",
    "    def boolean_query(self,query):\n",
    "        tokenized_words = word_tokenize(query.replace(\"^\",\" \"))\n",
    "        documents = None\n",
    "        for word in tokenized_words:\n",
    "            if word in self.inverted_index:\n",
    "                if documents:\n",
    "                    documents.intersection(set(self.inverted_index[word]))\n",
    "                else:\n",
    "                    documents = set(self.inverted_index[word])\n",
    "                    \n",
    "        return documents,tokenized_words\n",
    "        \n",
    "        \n"
   ]
  },
  {
   "cell_type": "code",
   "execution_count": 120,
   "id": "7029c660",
   "metadata": {},
   "outputs": [],
   "source": [
    "gen = DocumentGenerator()\n",
    "bl = Boolean_Retrieval([gen.paragraph(100,1000),gen.paragraph(100,1000),gen.paragraph(100,100)])"
   ]
  },
  {
   "cell_type": "code",
   "execution_count": 121,
   "id": "ede9f216",
   "metadata": {},
   "outputs": [
    {
     "data": {
      "text/plain": [
       "({1, 2}, ['european', 'district'])"
      ]
     },
     "execution_count": 121,
     "metadata": {},
     "output_type": "execute_result"
    }
   ],
   "source": [
    "bl.boolean_query(\"european^district\")"
   ]
  },
  {
   "cell_type": "code",
   "execution_count": 122,
   "id": "040a0178",
   "metadata": {},
   "outputs": [
    {
     "data": {
      "text/plain": [
       "{1, 2}"
      ]
     },
     "execution_count": 122,
     "metadata": {},
     "output_type": "execute_result"
    }
   ],
   "source": [
    "bl.inverted_index[\"european\"]"
   ]
  },
  {
   "cell_type": "code",
   "execution_count": 123,
   "id": "c60e34df",
   "metadata": {},
   "outputs": [
    {
     "data": {
      "text/plain": [
       "{1, 2}"
      ]
     },
     "execution_count": 123,
     "metadata": {},
     "output_type": "execute_result"
    }
   ],
   "source": [
    "bl.inverted_index[\"district\"]"
   ]
  },
  {
   "cell_type": "code",
   "execution_count": null,
   "id": "9f925f24",
   "metadata": {},
   "outputs": [],
   "source": []
  }
 ],
 "metadata": {
  "kernelspec": {
   "display_name": "Python 3 (ipykernel)",
   "language": "python",
   "name": "python3"
  },
  "language_info": {
   "codemirror_mode": {
    "name": "ipython",
    "version": 3
   },
   "file_extension": ".py",
   "mimetype": "text/x-python",
   "name": "python",
   "nbconvert_exporter": "python",
   "pygments_lexer": "ipython3",
   "version": "3.8.8"
  }
 },
 "nbformat": 4,
 "nbformat_minor": 5
}
