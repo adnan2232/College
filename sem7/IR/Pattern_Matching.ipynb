{
 "cells": [
  {
   "cell_type": "markdown",
   "id": "490df7d8",
   "metadata": {},
   "source": [
    "# 68_Adnan Shaikh"
   ]
  },
  {
   "cell_type": "markdown",
   "id": "e2661201",
   "metadata": {},
   "source": [
    "## Pattern Matching"
   ]
  },
  {
   "cell_type": "code",
   "execution_count": 1,
   "id": "8e001da1",
   "metadata": {},
   "outputs": [],
   "source": [
    "import re"
   ]
  },
  {
   "cell_type": "markdown",
   "id": "87566d28",
   "metadata": {},
   "source": [
    "### Extracting values from key:value pair of file"
   ]
  },
  {
   "cell_type": "code",
   "execution_count": 2,
   "id": "1b4ad972",
   "metadata": {},
   "outputs": [
    {
     "name": "stdout",
     "output_type": "stream",
     "text": [
      "\n",
      "Adnan\n",
      "user2\n",
      "Just a Test\n",
      "Randomly Writing some text I don't know about\n",
      "\n"
     ]
    }
   ],
   "source": [
    "patt =  re.compile(r'(From|To|Header|Body|:)')\n",
    "\n",
    "sample = \"\"\"\n",
    "From:Adnan\n",
    "To:user2\n",
    "Header:Just a Test\n",
    "Body:Randomly Writing some text I don't know about\n",
    "\"\"\"\n",
    "\n",
    "print(patt.sub(\"\",sample))"
   ]
  },
  {
   "cell_type": "markdown",
   "id": "96d10d4c",
   "metadata": {},
   "source": [
    "### Extracting Numbers from text"
   ]
  },
  {
   "cell_type": "code",
   "execution_count": 3,
   "id": "6b607c50",
   "metadata": {},
   "outputs": [
    {
     "data": {
      "text/plain": [
       "['3.5', '5', '2']"
      ]
     },
     "execution_count": 3,
     "metadata": {},
     "output_type": "execute_result"
    }
   ],
   "source": [
    "patt = re.compile(r'\\d+.?[0-9]+|\\d+')\n",
    "sample = r'f(x)= 3.5*x+5x^2'\n",
    "patt.findall(sample)"
   ]
  },
  {
   "cell_type": "markdown",
   "id": "089daaab",
   "metadata": {},
   "source": [
    "### Grouping Year, Month and Day in string"
   ]
  },
  {
   "cell_type": "code",
   "execution_count": 4,
   "id": "9877b059",
   "metadata": {},
   "outputs": [
    {
     "data": {
      "text/plain": [
       "{'year': '2022', 'month': '10', 'day': '7'}"
      ]
     },
     "execution_count": 4,
     "metadata": {},
     "output_type": "execute_result"
    }
   ],
   "source": [
    "patt = re.compile(r'(?P<year>\\d{4})/(?P<month>\\d{1,2})/(?P<day>\\d{1,2})')\n",
    "sample = r\"Today is 2022/10/7\"\n",
    "matched = patt.search(sample)\n",
    "matched.groupdict()"
   ]
  },
  {
   "cell_type": "code",
   "execution_count": 5,
   "id": "55749b18",
   "metadata": {},
   "outputs": [
    {
     "name": "stdout",
     "output_type": "stream",
     "text": [
      "Sample: <re.Match object; span=(25, 41), match='bababaaaabaabaaa'>\n",
      "Not a sample: None\n"
     ]
    }
   ],
   "source": [
    "patt = re.compile(r'\\bbaba(ba+)+\\b')\n",
    "sample = r\"and then the sheep says: bababaaaabaabaaa\"\n",
    "print(f\"Sample: {patt.search(sample)}\")\n",
    "\n",
    "notASample = r\"and then the sheep says:bababaaaabaabaaabbbaa\"\n",
    "print(f\"Not a sample: {patt.search(notASample)}\")"
   ]
  },
  {
   "cell_type": "markdown",
   "id": "6ce423aa",
   "metadata": {},
   "source": [
    "### . * ^  ? and \\$ opeartors"
   ]
  },
  {
   "cell_type": "code",
   "execution_count": 6,
   "id": "b08be714",
   "metadata": {},
   "outputs": [
    {
     "name": "stdout",
     "output_type": "stream",
     "text": [
      "<re.Match object; span=(0, 46), match='I am Iron man and I am here to save the planet'>\n",
      "<re.Match object; span=(0, 48), match='I am Iron woman and I am here to wash the dishes'>\n",
      "None\n"
     ]
    }
   ],
   "source": [
    "patt = re.compile(r'^I am Iron (wo)?man .*$')\n",
    "sample = r\"I am Iron man and I am here to save the planet\"\n",
    "print(patt.match(sample))\n",
    "sample = r\"I am Iron woman and I am here to wash the dishes\"\n",
    "print(patt.match(sample))\n",
    "sample = r\"I am Iron boy and I am here to play\"\n",
    "print(patt.match(sample))"
   ]
  }
 ],
 "metadata": {
  "kernelspec": {
   "display_name": "Python 3 (ipykernel)",
   "language": "python",
   "name": "python3"
  },
  "language_info": {
   "codemirror_mode": {
    "name": "ipython",
    "version": 3
   },
   "file_extension": ".py",
   "mimetype": "text/x-python",
   "name": "python",
   "nbconvert_exporter": "python",
   "pygments_lexer": "ipython3",
   "version": "3.9.7"
  }
 },
 "nbformat": 4,
 "nbformat_minor": 5
}
