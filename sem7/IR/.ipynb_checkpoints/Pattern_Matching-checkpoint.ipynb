{
 "cells": [
  {
   "cell_type": "markdown",
   "id": "ffbe8f22",
   "metadata": {},
   "source": [
    "# 68_Adnan Shaikh"
   ]
  },
  {
   "cell_type": "markdown",
   "id": "05264f6b",
   "metadata": {},
   "source": [
    "## Pattern Matching"
   ]
  },
  {
   "cell_type": "code",
   "execution_count": 1,
   "id": "3770d6f6",
   "metadata": {},
   "outputs": [],
   "source": [
    "import re"
   ]
  },
  {
   "cell_type": "markdown",
   "id": "d1036009",
   "metadata": {},
   "source": [
    "### Extracting values from key:value pair of file"
   ]
  },
  {
   "cell_type": "code",
   "execution_count": 226,
   "id": "64672b60",
   "metadata": {},
   "outputs": [
    {
     "name": "stdout",
     "output_type": "stream",
     "text": [
      "\n",
      "Adnan\n",
      "user2\n",
      "Just a Test\n",
      "Randomly Writing some text I don't know about\n",
      "\n"
     ]
    }
   ],
   "source": [
    "patt =  re.compile(r'(From|To|Header|Body|:)')\n",
    "\n",
    "sample = \"\"\"\n",
    "From:Adnan\n",
    "To:user2\n",
    "Header:Just a Test\n",
    "Body:Randomly Writing some text I don't know about\n",
    "\"\"\"\n",
    "\n",
    "print(patt.sub(\"\",sample))"
   ]
  },
  {
   "cell_type": "markdown",
   "id": "a6babfd9",
   "metadata": {},
   "source": [
    "### Extracting Numbers from text"
   ]
  },
  {
   "cell_type": "code",
   "execution_count": 245,
   "id": "38aae3ec",
   "metadata": {},
   "outputs": [
    {
     "data": {
      "text/plain": [
       "['3.5', '5', '2']"
      ]
     },
     "execution_count": 245,
     "metadata": {},
     "output_type": "execute_result"
    }
   ],
   "source": [
    "patt = re.compile(r'\\d+.?[0-9]+|\\d+')\n",
    "sample = r'f(x)= 3.5*x+5x^2'\n",
    "patt.findall(sample)"
   ]
  },
  {
   "cell_type": "markdown",
   "id": "f3024eaa",
   "metadata": {},
   "source": [
    "### Grouping Year, Month and Day in string"
   ]
  },
  {
   "cell_type": "code",
   "execution_count": 256,
   "id": "c23844af",
   "metadata": {},
   "outputs": [
    {
     "data": {
      "text/plain": [
       "{'year': '2022', 'month': '10', 'day': '7'}"
      ]
     },
     "execution_count": 256,
     "metadata": {},
     "output_type": "execute_result"
    }
   ],
   "source": [
    "patt = re.compile(r'(?P<year>\\d{4})/(?P<month>\\d{1,2})/(?P<day>\\d{1,2})')\n",
    "sample = r\"Today is 2022/10/7\"\n",
    "matched = patt.search(sample)\n",
    "matched.groupdict()"
   ]
  },
  {
   "cell_type": "code",
   "execution_count": 272,
   "id": "bc95bc20",
   "metadata": {},
   "outputs": [
    {
     "name": "stdout",
     "output_type": "stream",
     "text": [
      "Sample: <re.Match object; span=(25, 41), match='bababaaaabaabaaa'>\n",
      "Not a sample: None\n"
     ]
    }
   ],
   "source": [
    "patt = re.compile(r'\\bbaba(ba+)+\\b')\n",
    "sample = r\"and then the sheep says: bababaaaabaabaaa\"\n",
    "print(f\"Sample: {patt.search(sample)}\")\n",
    "\n",
    "notASample = r\"and then the sheep says:bababaaaabaabaaabbbaa\"\n",
    "print(f\"Not a sample: {patt.search(notASample)}\")"
   ]
  },
  {
   "cell_type": "markdown",
   "id": "812a9847",
   "metadata": {},
   "source": [
    "### . * ^  ? and \\$ opeartor"
   ]
  },
  {
   "cell_type": "code",
   "execution_count": 274,
   "id": "32ea12b6",
   "metadata": {},
   "outputs": [
    {
     "name": "stdout",
     "output_type": "stream",
     "text": [
      "<re.Match object; span=(0, 46), match='I am Iron man and I am here to save the planet'>\n",
      "<re.Match object; span=(0, 48), match='I am Iron woman and I am here to wash the dishes'>\n",
      "None\n"
     ]
    }
   ],
   "source": [
    "patt = re.compile(r'^I am Iron (wo)?man .*$')\n",
    "sample = r\"I am Iron man and I am here to save the planet\"\n",
    "print(patt.match(sample))\n",
    "sample = r\"I am Iron woman and I am here to wash the dishes\"\n",
    "print(patt.match(sample))\n",
    "sample = r\"I am Iron boy and I am here to play\"\n",
    "print(patt.match(sample))"
   ]
  },
  {
   "cell_type": "code",
   "execution_count": null,
   "id": "e0147899",
   "metadata": {},
   "outputs": [],
   "source": []
  }
 ],
 "metadata": {
  "kernelspec": {
   "display_name": "Python 3 (ipykernel)",
   "language": "python",
   "name": "python3"
  },
  "language_info": {
   "codemirror_mode": {
    "name": "ipython",
    "version": 3
   },
   "file_extension": ".py",
   "mimetype": "text/x-python",
   "name": "python",
   "nbconvert_exporter": "python",
   "pygments_lexer": "ipython3",
   "version": "3.9.7"
  }
 },
 "nbformat": 4,
 "nbformat_minor": 5
}
