{
  "nbformat": 4,
  "nbformat_minor": 0,
  "metadata": {
    "colab": {
      "provenance": [],
      "collapsed_sections": []
    },
    "kernelspec": {
      "name": "python3",
      "display_name": "Python 3"
    },
    "language_info": {
      "name": "python"
    }
  },
  "cells": [
    {
      "cell_type": "markdown",
      "source": [
        "# 68_Adnan Shaikh"
      ],
      "metadata": {
        "id": "KyXAKU7EKx-9"
      }
    },
    {
      "cell_type": "code",
      "execution_count": null,
      "metadata": {
        "id": "QEE7qxqT0iFh"
      },
      "outputs": [],
      "source": [
        "from nltk.corpus import words\n",
        "from random import sample, shuffle\n",
        "from bloom_filter2 import BloomFilter"
      ]
    },
    {
      "cell_type": "code",
      "source": [
        "N = 20\n",
        "P = 0.05"
      ],
      "metadata": {
        "id": "nI76sbuv1IAO"
      },
      "execution_count": null,
      "outputs": []
    },
    {
      "cell_type": "code",
      "source": [
        "bloom_obj = BloomFilter(N,P)\n",
        "print(f\"Size of Bucket: {bloom_obj.num_bits_m}\\nFalse Positive Probability: {bloom_obj.error_rate_p}\\n\")"
      ],
      "metadata": {
        "colab": {
          "base_uri": "https://localhost:8080/"
        },
        "id": "fRwQsIwv19We",
        "outputId": "c35beb8f-9718-487c-bf94-b7ceecf2fbc8"
      },
      "execution_count": null,
      "outputs": [
        {
          "output_type": "stream",
          "name": "stdout",
          "text": [
            "Size of Bucket: 125\n",
            "False Positive Probability: 0.05\n",
            "\n"
          ]
        }
      ]
    },
    {
      "cell_type": "code",
      "source": [
        "word_present = sample(words.words(),N)\n",
        "word_present"
      ],
      "metadata": {
        "colab": {
          "base_uri": "https://localhost:8080/"
        },
        "id": "j3sOWXPx3lO3",
        "outputId": "333c2ad9-c3a2-46f4-a8c6-9e8323688543"
      },
      "execution_count": null,
      "outputs": [
        {
          "output_type": "execute_result",
          "data": {
            "text/plain": [
              "['protosalt',\n",
              " 'cellular',\n",
              " 'lagopous',\n",
              " 'bijouterie',\n",
              " 'fondlingly',\n",
              " 'retrievable',\n",
              " 'sheltery',\n",
              " 'kiekie',\n",
              " 'preferential',\n",
              " 'platyope',\n",
              " 'thunderproof',\n",
              " 'polydermy',\n",
              " 'Pondo',\n",
              " 'restis',\n",
              " 'Polyangium',\n",
              " 'unconcessible',\n",
              " 'befilch',\n",
              " 'savingness',\n",
              " 'harmoniousness',\n",
              " 'stereotropism']"
            ]
          },
          "metadata": {},
          "execution_count": 28
        }
      ]
    },
    {
      "cell_type": "code",
      "source": [
        "word_absent = sample(set(words.words()).symmetric_difference(set(word_present)),N)\n",
        "word_absent"
      ],
      "metadata": {
        "colab": {
          "base_uri": "https://localhost:8080/"
        },
        "id": "7EMBC97U6eDH",
        "outputId": "34356c48-578a-404b-b6dc-87389f1eebae"
      },
      "execution_count": null,
      "outputs": [
        {
          "output_type": "execute_result",
          "data": {
            "text/plain": [
              "['tergitic',\n",
              " 'diaheliotropically',\n",
              " 'Amatembu',\n",
              " 'cuboides',\n",
              " 'epedaphic',\n",
              " 'reappearance',\n",
              " 'untwirled',\n",
              " 'honoree',\n",
              " 'infrastapedial',\n",
              " 'decolorize',\n",
              " 'Agelaius',\n",
              " 'Anacreon',\n",
              " 'expletiveness',\n",
              " 'spousally',\n",
              " 'Anthropopithecus',\n",
              " 'melancholia',\n",
              " 'verdet',\n",
              " 'Tenuirostres',\n",
              " 'redintegration',\n",
              " 'Purkinje']"
            ]
          },
          "metadata": {},
          "execution_count": 30
        }
      ]
    },
    {
      "cell_type": "code",
      "source": [
        "for word in word_present:\n",
        "  bloom_obj.add(word)\n"
      ],
      "metadata": {
        "id": "R3CytvGB7FKv"
      },
      "execution_count": null,
      "outputs": []
    },
    {
      "cell_type": "code",
      "source": [
        "shuffle(word_present)\n",
        "shuffle(word_absent)\n",
        "test_words = sample(word_present,N//2) + sample(word_absent,N//2)\n",
        "test_words"
      ],
      "metadata": {
        "colab": {
          "base_uri": "https://localhost:8080/"
        },
        "id": "ARgav7yK7i6-",
        "outputId": "4533812b-6542-44e3-92ca-e2f3ec777deb"
      },
      "execution_count": null,
      "outputs": [
        {
          "output_type": "execute_result",
          "data": {
            "text/plain": [
              "['befilch',\n",
              " 'thunderproof',\n",
              " 'platyope',\n",
              " 'savingness',\n",
              " 'Polyangium',\n",
              " 'harmoniousness',\n",
              " 'sheltery',\n",
              " 'preferential',\n",
              " 'fondlingly',\n",
              " 'unconcessible',\n",
              " 'infrastapedial',\n",
              " 'spousally',\n",
              " 'epedaphic',\n",
              " 'verdet',\n",
              " 'Amatembu',\n",
              " 'Anacreon',\n",
              " 'diaheliotropically',\n",
              " 'tergitic',\n",
              " 'reappearance',\n",
              " 'expletiveness']"
            ]
          },
          "metadata": {},
          "execution_count": 44
        }
      ]
    },
    {
      "cell_type": "code",
      "source": [
        "for word in test_words:\n",
        "  if word in bloom_obj and word in word_present:\n",
        "      print(f\"{word} is present in DB\")\n",
        "  elif word in bloom_obj and word not in word_present:\n",
        "    print(f\"{word} is not present in DB. FALSE POSITIIIVE!!!!!\")\n",
        "  else:\n",
        "    print(f\"{word} is not present in DB\")\n"
      ],
      "metadata": {
        "colab": {
          "base_uri": "https://localhost:8080/"
        },
        "id": "ky32Ei9u8QKX",
        "outputId": "1a8d1414-941f-4209-80b9-8c5d951b1ce9"
      },
      "execution_count": null,
      "outputs": [
        {
          "output_type": "stream",
          "name": "stdout",
          "text": [
            "befilch is present in DB\n",
            "thunderproof is present in DB\n",
            "platyope is present in DB\n",
            "savingness is present in DB\n",
            "Polyangium is present in DB\n",
            "harmoniousness is present in DB\n",
            "sheltery is present in DB\n",
            "preferential is present in DB\n",
            "fondlingly is present in DB\n",
            "unconcessible is present in DB\n",
            "infrastapedial is not present in DB\n",
            "spousally is not present in DB\n",
            "epedaphic is not present in DB\n",
            "verdet is not present in DB\n",
            "Amatembu is not present in DB\n",
            "Anacreon is not present in DB\n",
            "diaheliotropically is not present in DB\n",
            "tergitic is not present in DB. FALSE POSITIIIVE!!!!!\n",
            "reappearance is not present in DB\n",
            "expletiveness is not present in DB\n"
          ]
        }
      ]
    },
    {
      "cell_type": "code",
      "source": [],
      "metadata": {
        "id": "vncqKks49tYF"
      },
      "execution_count": null,
      "outputs": []
    }
  ]
}