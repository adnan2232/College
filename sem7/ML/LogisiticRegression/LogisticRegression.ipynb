{
 "cells": [
  {
   "cell_type": "markdown",
   "metadata": {},
   "source": [
    "# Logistic Regression"
   ]
  },
  {
   "cell_type": "markdown",
   "metadata": {},
   "source": [
    "# 68_Adnan Shaikh"
   ]
  },
  {
   "cell_type": "code",
   "execution_count": 3,
   "metadata": {
    "colab": {
     "base_uri": "https://localhost:8080/",
     "height": 130
    },
    "executionInfo": {
     "elapsed": 24,
     "status": "error",
     "timestamp": 1662982869590,
     "user": {
      "displayName": "31_Prachi Bane",
      "userId": "04830806807069376064"
     },
     "user_tz": -330
    },
    "id": "kXQ1YMtl6WUb",
    "outputId": "55fca6c3-1063-47c4-d362-4ee43c57967f"
   },
   "outputs": [],
   "source": [
    "from sklearn.linear_model import LogisticRegression\n",
    "from sklearn.svm import SVC\n",
    "from sklearn.ensemble import RandomForestClassifier\n",
    "from sklearn.model_selection import train_test_split\n",
    "import numpy as np \n",
    "from sklearn.datasets import load_digits\n",
    "import matplotlib.pyplot as plt\n",
    "digits = load_digits()"
   ]
  },
  {
   "cell_type": "code",
   "execution_count": 4,
   "metadata": {
    "id": "BQZN-xJs8V5Y"
   },
   "outputs": [],
   "source": [
    "\n",
    "x_train,x_test,y_train,y_test=train_test_split(digits.data,digits.target,test_size=0.3)"
   ]
  },
  {
   "cell_type": "code",
   "execution_count": 5,
   "metadata": {
    "colab": {
     "base_uri": "https://localhost:8080/"
    },
    "executionInfo": {
     "elapsed": 12,
     "status": "ok",
     "timestamp": 1635861890398,
     "user": {
      "displayName": "Hemalata Gosavi",
      "photoUrl": "https://lh3.googleusercontent.com/a/default-user=s64",
      "userId": "13479347581667068869"
     },
     "user_tz": -330
    },
    "id": "PVPYdvUW9FNL",
    "outputId": "ab32fa79-522f-4e8d-d159-5e67da52d8f6"
   },
   "outputs": [
    {
     "data": {
      "text/plain": [
       "0.9611111111111111"
      ]
     },
     "execution_count": 5,
     "metadata": {},
     "output_type": "execute_result"
    }
   ],
   "source": [
    "lr=LogisticRegression(solver='liblinear',multi_class='ovr')\n",
    "lr.fit(x_train,y_train)\n",
    "lr.score(x_test,y_test)"
   ]
  },
  {
   "cell_type": "code",
   "execution_count": 6,
   "metadata": {
    "colab": {
     "base_uri": "https://localhost:8080/"
    },
    "executionInfo": {
     "elapsed": 509,
     "status": "ok",
     "timestamp": 1635862195764,
     "user": {
      "displayName": "Hemalata Gosavi",
      "photoUrl": "https://lh3.googleusercontent.com/a/default-user=s64",
      "userId": "13479347581667068869"
     },
     "user_tz": -330
    },
    "id": "CfWVrm9x-scq",
    "outputId": "a374f53e-8de7-436c-9a5d-42e1444ca32a"
   },
   "outputs": [
    {
     "data": {
      "text/plain": [
       "0.32222222222222224"
      ]
     },
     "execution_count": 6,
     "metadata": {},
     "output_type": "execute_result"
    }
   ],
   "source": [
    "svm= SVC(gamma='auto')\n",
    "svm.fit(x_train,y_train)\n",
    "svm.score(x_test,y_test)"
   ]
  },
  {
   "cell_type": "code",
   "execution_count": 7,
   "metadata": {
    "colab": {
     "base_uri": "https://localhost:8080/"
    },
    "executionInfo": {
     "elapsed": 714,
     "status": "ok",
     "timestamp": 1635862341175,
     "user": {
      "displayName": "Hemalata Gosavi",
      "photoUrl": "https://lh3.googleusercontent.com/a/default-user=s64",
      "userId": "13479347581667068869"
     },
     "user_tz": -330
    },
    "id": "YPmZQCHi_XPv",
    "outputId": "2c032c46-713a-4976-8cf6-cbe8d3fde0e9"
   },
   "outputs": [
    {
     "data": {
      "text/plain": [
       "0.9648148148148148"
      ]
     },
     "execution_count": 7,
     "metadata": {},
     "output_type": "execute_result"
    }
   ],
   "source": [
    "rf=RandomForestClassifier(n_estimators=40)\n",
    "rf.fit(x_train,y_train)\n",
    "rf.score(x_test,y_test)"
   ]
  },
  {
   "cell_type": "markdown",
   "metadata": {
    "id": "EwhgCU1N_3pT"
   },
   "source": [
    "**K fold cross Validation**"
   ]
  },
  {
   "cell_type": "code",
   "execution_count": 8,
   "metadata": {
    "colab": {
     "base_uri": "https://localhost:8080/"
    },
    "executionInfo": {
     "elapsed": 1215,
     "status": "ok",
     "timestamp": 1662983504182,
     "user": {
      "displayName": "31_Prachi Bane",
      "userId": "04830806807069376064"
     },
     "user_tz": -330
    },
    "id": "b2mYZOB5__PG",
    "outputId": "d8e3d20a-3bb1-4d03-afe6-6485e4a69694"
   },
   "outputs": [
    {
     "data": {
      "text/plain": [
       "KFold(n_splits=3, random_state=None, shuffle=False)"
      ]
     },
     "execution_count": 8,
     "metadata": {},
     "output_type": "execute_result"
    }
   ],
   "source": [
    "from sklearn.model_selection import KFold\n",
    "kf = KFold(n_splits=3)\n",
    "kf"
   ]
  },
  {
   "cell_type": "code",
   "execution_count": 9,
   "metadata": {
    "colab": {
     "base_uri": "https://localhost:8080/"
    },
    "executionInfo": {
     "elapsed": 453,
     "status": "ok",
     "timestamp": 1662983507865,
     "user": {
      "displayName": "31_Prachi Bane",
      "userId": "04830806807069376064"
     },
     "user_tz": -330
    },
    "id": "XAVyLHHDA2YY",
    "outputId": "91d20b72-ce09-4683-e7ea-5926e082dd58"
   },
   "outputs": [
    {
     "name": "stdout",
     "output_type": "stream",
     "text": [
      "[3 4 5 6 7 8] [0 1 2]\n",
      "[0 1 2 6 7 8] [3 4 5]\n",
      "[0 1 2 3 4 5] [6 7 8]\n"
     ]
    }
   ],
   "source": [
    "for train_index ,test_index in kf.split([1,2,3,4,5,6,7,8,9]):\n",
    "  print(train_index,test_index)"
   ]
  },
  {
   "cell_type": "code",
   "execution_count": 10,
   "metadata": {
    "id": "RFyYkuriCQwt"
   },
   "outputs": [],
   "source": [
    "def get_score(model, x_train,x_test,y_train,y_test):\n",
    "  model.fit(x_train,y_train)\n",
    "  return model.score(x_test,y_test)"
   ]
  },
  {
   "cell_type": "code",
   "execution_count": 11,
   "metadata": {
    "colab": {
     "base_uri": "https://localhost:8080/",
     "height": 235
    },
    "executionInfo": {
     "elapsed": 19,
     "status": "error",
     "timestamp": 1662547821158,
     "user": {
      "displayName": "31_Prachi Bane",
      "userId": "04830806807069376064"
     },
     "user_tz": -330
    },
    "id": "WmtllasiC1e1",
    "outputId": "a9eb5399-05e2-464b-a2e5-4f0af6175dac"
   },
   "outputs": [],
   "source": [
    "from sklearn.model_selection import StratifiedKFold\n",
    "fold = StratifiedKFold(n_splits=3)\n",
    "\n",
    "score_logistic=[]\n",
    "score_svm=[]\n",
    "score_rf=[]\n",
    "\n",
    "for train_index,test_index in fold.split(digits.data,digits.target):\n",
    "  x_train,x_test,y_train,y_test=digits.data[train_index],digits.data[test_index],digits.target[train_index],digits.target[test_index]\n",
    "  score_logistic.append(get_score(LogisticRegression(solver='liblinear',multi_class='ovr'),x_train,x_test,y_train,y_test))\n",
    "  score_svm.append(get_score(SVC(gamma='auto'),x_train,x_test,y_train,y_test))\n",
    "  score_rf.append(get_score(RandomForestClassifier(n_estimators=40),x_train,x_test,y_train,y_test))"
   ]
  },
  {
   "cell_type": "code",
   "execution_count": 12,
   "metadata": {
    "colab": {
     "base_uri": "https://localhost:8080/"
    },
    "executionInfo": {
     "elapsed": 888,
     "status": "ok",
     "timestamp": 1635864348067,
     "user": {
      "displayName": "Hemalata Gosavi",
      "photoUrl": "https://lh3.googleusercontent.com/a/default-user=s64",
      "userId": "13479347581667068869"
     },
     "user_tz": -330
    },
    "id": "o9WrFA9mHI1N",
    "outputId": "ab5def29-e3ab-4d02-8349-46cdad869880"
   },
   "outputs": [
    {
     "data": {
      "text/plain": [
       "[0.8948247078464107, 0.9532554257095158, 0.9098497495826378]"
      ]
     },
     "execution_count": 12,
     "metadata": {},
     "output_type": "execute_result"
    }
   ],
   "source": [
    "score_logistic"
   ]
  },
  {
   "cell_type": "code",
   "execution_count": 13,
   "metadata": {
    "colab": {
     "base_uri": "https://localhost:8080/"
    },
    "executionInfo": {
     "elapsed": 579,
     "status": "ok",
     "timestamp": 1635864530450,
     "user": {
      "displayName": "Hemalata Gosavi",
      "photoUrl": "https://lh3.googleusercontent.com/a/default-user=s64",
      "userId": "13479347581667068869"
     },
     "user_tz": -330
    },
    "id": "trdZpH3CHQwP",
    "outputId": "7ae178c7-a547-4c4c-a933-db2538ea9e59"
   },
   "outputs": [
    {
     "data": {
      "text/plain": [
       "[0.9332220367278798, 0.9599332220367279, 0.9315525876460768]"
      ]
     },
     "execution_count": 13,
     "metadata": {},
     "output_type": "execute_result"
    }
   ],
   "source": [
    "score_rf"
   ]
  },
  {
   "cell_type": "code",
   "execution_count": 14,
   "metadata": {
    "colab": {
     "base_uri": "https://localhost:8080/"
    },
    "executionInfo": {
     "elapsed": 469,
     "status": "ok",
     "timestamp": 1635864540898,
     "user": {
      "displayName": "Hemalata Gosavi",
      "photoUrl": "https://lh3.googleusercontent.com/a/default-user=s64",
      "userId": "13479347581667068869"
     },
     "user_tz": -330
    },
    "id": "345Qa2LoH88y",
    "outputId": "9342474f-7a50-43ec-8032-7425201929e2"
   },
   "outputs": [
    {
     "data": {
      "text/plain": [
       "[0.3806343906510851, 0.41068447412353926, 0.5125208681135225]"
      ]
     },
     "execution_count": 14,
     "metadata": {},
     "output_type": "execute_result"
    }
   ],
   "source": [
    "score_svm"
   ]
  },
  {
   "cell_type": "markdown",
   "metadata": {
    "id": "zK7r5jxfJCPh"
   },
   "source": [
    "Cross_val_Score Function"
   ]
  },
  {
   "cell_type": "code",
   "execution_count": 15,
   "metadata": {
    "id": "yJlfSDKrJIdK"
   },
   "outputs": [],
   "source": [
    "from sklearn.model_selection import cross_val_score"
   ]
  },
  {
   "cell_type": "code",
   "execution_count": 16,
   "metadata": {
    "colab": {
     "base_uri": "https://localhost:8080/"
    },
    "executionInfo": {
     "elapsed": 951,
     "status": "ok",
     "timestamp": 1635865055892,
     "user": {
      "displayName": "Hemalata Gosavi",
      "photoUrl": "https://lh3.googleusercontent.com/a/default-user=s64",
      "userId": "13479347581667068869"
     },
     "user_tz": -330
    },
    "id": "BI8x_M-nJhiR",
    "outputId": "9d9ed151-6fd7-4a34-e075-42569bae70ba"
   },
   "outputs": [
    {
     "data": {
      "text/plain": [
       "array([0.89482471, 0.95325543, 0.90984975])"
      ]
     },
     "execution_count": 16,
     "metadata": {},
     "output_type": "execute_result"
    }
   ],
   "source": [
    "cross_val_score(LogisticRegression(solver='liblinear',multi_class='ovr'),digits.data,digits.target,cv=3)"
   ]
  },
  {
   "cell_type": "code",
   "execution_count": 17,
   "metadata": {
    "colab": {
     "base_uri": "https://localhost:8080/"
    },
    "executionInfo": {
     "elapsed": 673,
     "status": "ok",
     "timestamp": 1635865513553,
     "user": {
      "displayName": "Hemalata Gosavi",
      "photoUrl": "https://lh3.googleusercontent.com/a/default-user=s64",
      "userId": "13479347581667068869"
     },
     "user_tz": -330
    },
    "id": "-LW15yP4LMj_",
    "outputId": "324d9cce-0a28-461c-bf5d-5b707e82b2fe"
   },
   "outputs": [
    {
     "data": {
      "text/plain": [
       "0.8503060656649972"
      ]
     },
     "execution_count": 17,
     "metadata": {},
     "output_type": "execute_result"
    }
   ],
   "source": [
    "score1=cross_val_score(RandomForestClassifier(n_estimators=5),digits.data,digits.target,cv=3)\n",
    "np.average(score1)"
   ]
  },
  {
   "cell_type": "code",
   "execution_count": 18,
   "metadata": {
    "colab": {
     "base_uri": "https://localhost:8080/"
    },
    "executionInfo": {
     "elapsed": 12,
     "status": "ok",
     "timestamp": 1635865547900,
     "user": {
      "displayName": "Hemalata Gosavi",
      "photoUrl": "https://lh3.googleusercontent.com/a/default-user=s64",
      "userId": "13479347581667068869"
     },
     "user_tz": -330
    },
    "id": "acaOAcBSLvVk",
    "outputId": "759be95d-5111-42a2-f10d-6c92b006d924"
   },
   "outputs": [
    {
     "data": {
      "text/plain": [
       "0.9254312743461325"
      ]
     },
     "execution_count": 18,
     "metadata": {},
     "output_type": "execute_result"
    }
   ],
   "source": [
    "score2=cross_val_score(RandomForestClassifier(n_estimators=20),digits.data,digits.target,cv=3)\n",
    "np.average(score2)"
   ]
  },
  {
   "cell_type": "code",
   "execution_count": 19,
   "metadata": {
    "colab": {
     "base_uri": "https://localhost:8080/"
    },
    "executionInfo": {
     "elapsed": 752,
     "status": "ok",
     "timestamp": 1635865583047,
     "user": {
      "displayName": "Hemalata Gosavi",
      "photoUrl": "https://lh3.googleusercontent.com/a/default-user=s64",
      "userId": "13479347581667068869"
     },
     "user_tz": -330
    },
    "id": "2DE1pnk0L3kN",
    "outputId": "d20c6c94-8d3e-41cd-85ce-216c02c5d1b5"
   },
   "outputs": [
    {
     "data": {
      "text/plain": [
       "0.9304396215915415"
      ]
     },
     "execution_count": 19,
     "metadata": {},
     "output_type": "execute_result"
    }
   ],
   "source": [
    "score3=cross_val_score(RandomForestClassifier(n_estimators=30),digits.data,digits.target,cv=3)\n",
    "np.average(score3)"
   ]
  },
  {
   "cell_type": "code",
   "execution_count": 20,
   "metadata": {
    "colab": {
     "base_uri": "https://localhost:8080/"
    },
    "executionInfo": {
     "elapsed": 718,
     "status": "ok",
     "timestamp": 1635865616758,
     "user": {
      "displayName": "Hemalata Gosavi",
      "photoUrl": "https://lh3.googleusercontent.com/a/default-user=s64",
      "userId": "13479347581667068869"
     },
     "user_tz": -330
    },
    "id": "ihoBpr8IMBYo",
    "outputId": "e6780ed1-5f3c-4cc2-ba01-1927bce200ea"
   },
   "outputs": [
    {
     "data": {
      "text/plain": [
       "0.9304396215915415"
      ]
     },
     "execution_count": 20,
     "metadata": {},
     "output_type": "execute_result"
    }
   ],
   "source": [
    "score4=cross_val_score(RandomForestClassifier(n_estimators=40),digits.data,digits.target,cv=3)\n",
    "np.average(score4)"
   ]
  }
 ],
 "metadata": {
  "colab": {
   "provenance": []
  },
  "kernelspec": {
   "display_name": "Python 3 (ipykernel)",
   "language": "python",
   "name": "python3"
  },
  "language_info": {
   "codemirror_mode": {
    "name": "ipython",
    "version": 3
   },
   "file_extension": ".py",
   "mimetype": "text/x-python",
   "name": "python",
   "nbconvert_exporter": "python",
   "pygments_lexer": "ipython3",
   "version": "3.8.8"
  }
 },
 "nbformat": 4,
 "nbformat_minor": 1
}
