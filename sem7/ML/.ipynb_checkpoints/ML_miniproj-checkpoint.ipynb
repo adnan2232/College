{
 "cells": [
  {
   "cell_type": "markdown",
   "id": "93d76b78",
   "metadata": {},
   "source": [
    "# Analysis of  Spaceship Titanic Data"
   ]
  },
  {
   "cell_type": "code",
   "execution_count": 1,
   "id": "09299a23",
   "metadata": {},
   "outputs": [
    {
     "ename": "ModuleNotFoundError",
     "evalue": "No module named 'pyspark'",
     "output_type": "error",
     "traceback": [
      "\u001b[1;31m---------------------------------------------------------------------------\u001b[0m",
      "\u001b[1;31mModuleNotFoundError\u001b[0m                       Traceback (most recent call last)",
      "\u001b[1;32m~\\AppData\\Local\\Temp/ipykernel_13496/2282832198.py\u001b[0m in \u001b[0;36m<module>\u001b[1;34m\u001b[0m\n\u001b[1;32m----> 1\u001b[1;33m \u001b[1;32mfrom\u001b[0m \u001b[0mpyspark\u001b[0m\u001b[1;33m.\u001b[0m\u001b[0msql\u001b[0m \u001b[1;32mimport\u001b[0m \u001b[0mSparkSession\u001b[0m\u001b[1;33m\u001b[0m\u001b[1;33m\u001b[0m\u001b[0m\n\u001b[0m\u001b[0;32m      2\u001b[0m \u001b[1;32mimport\u001b[0m \u001b[0mseaborn\u001b[0m \u001b[1;32mas\u001b[0m \u001b[0msns\u001b[0m\u001b[1;33m\u001b[0m\u001b[1;33m\u001b[0m\u001b[0m\n\u001b[0;32m      3\u001b[0m \u001b[1;32mimport\u001b[0m \u001b[0mmatplotlib\u001b[0m\u001b[1;33m.\u001b[0m\u001b[0mpyplot\u001b[0m \u001b[1;32mas\u001b[0m \u001b[0mplt\u001b[0m\u001b[1;33m\u001b[0m\u001b[1;33m\u001b[0m\u001b[0m\n\u001b[0;32m      4\u001b[0m \u001b[0mspark\u001b[0m \u001b[1;33m=\u001b[0m \u001b[0mSparkSession\u001b[0m\u001b[1;33m.\u001b[0m\u001b[0mbuilder\u001b[0m\u001b[1;33m.\u001b[0m\u001b[0mappName\u001b[0m\u001b[1;33m(\u001b[0m\u001b[1;34m\"Spaceship_Transportation_Analytics\"\u001b[0m\u001b[1;33m)\u001b[0m\u001b[1;33m.\u001b[0m\u001b[0mgetOrCreate\u001b[0m\u001b[1;33m(\u001b[0m\u001b[1;33m)\u001b[0m\u001b[1;33m\u001b[0m\u001b[1;33m\u001b[0m\u001b[0m\n\u001b[0;32m      5\u001b[0m \u001b[0mspark\u001b[0m\u001b[1;33m.\u001b[0m\u001b[0mconf\u001b[0m\u001b[1;33m.\u001b[0m\u001b[0mset\u001b[0m\u001b[1;33m(\u001b[0m\u001b[1;34m'spark.sql.repl.eagerEval.enabled'\u001b[0m\u001b[1;33m,\u001b[0m \u001b[1;32mTrue\u001b[0m\u001b[1;33m)\u001b[0m\u001b[1;33m\u001b[0m\u001b[1;33m\u001b[0m\u001b[0m\n",
      "\u001b[1;31mModuleNotFoundError\u001b[0m: No module named 'pyspark'"
     ]
    }
   ],
   "source": [
    "from pyspark.sql import SparkSession\n",
    "import seaborn as sns\n",
    "import matplotlib.pyplot as plt\n",
    "spark = SparkSession.builder.appName(\"Spaceship_Transportation_Analytics\").getOrCreate()\n",
    "spark.conf.set('spark.sql.repl.eagerEval.enabled', True)\n",
    "spark"
   ]
  },
  {
   "cell_type": "code",
   "execution_count": null,
   "id": "c0ac56b9",
   "metadata": {},
   "outputs": [],
   "source": [
    "df= spark.read.csv(\"spaceship/train.csv\",header=True,inferSchema=True)"
   ]
  },
  {
   "cell_type": "code",
   "execution_count": null,
   "id": "56e7a3c2",
   "metadata": {},
   "outputs": [],
   "source": [
    "import pyspark.pandas as ps\n",
    "import numpy as np\n",
    "import pandas as pd\n",
    "psdf = df.toPandas().set_index(\"PassengerId\")\n",
    "psdf.drop(\"Name\",axis=1,inplace=True)\n",
    "psdf.head(5)"
   ]
  },
  {
   "cell_type": "code",
   "execution_count": null,
   "id": "16f3aae1",
   "metadata": {},
   "outputs": [],
   "source": [
    "np.sum(psdf.isna())"
   ]
  },
  {
   "cell_type": "code",
   "execution_count": null,
   "id": "618b94a4",
   "metadata": {},
   "outputs": [],
   "source": [
    "psdf.HomePlanet = psdf.HomePlanet.fillna(\"UnkownPlanet\")\n",
    "np.sum(psdf.HomePlanet.isna())"
   ]
  },
  {
   "cell_type": "code",
   "execution_count": null,
   "id": "3cbe514b",
   "metadata": {},
   "outputs": [],
   "source": [
    "psdf[\"CryoSleep\"].fillna(False,inplace=True)\n",
    "np.sum(psdf[\"CryoSleep\"].isna())"
   ]
  },
  {
   "cell_type": "code",
   "execution_count": null,
   "id": "55165ce4",
   "metadata": {},
   "outputs": [],
   "source": [
    "pd.crosstab(index=psdf[\"Transported\"],columns=psdf[\"CryoSleep\"]).plot.barh(stacked=True)\n",
    "plt.show()"
   ]
  },
  {
   "cell_type": "code",
   "execution_count": null,
   "id": "2685a239",
   "metadata": {},
   "outputs": [],
   "source": [
    "psdf[\"Cabin\"] = psdf.Cabin.map(lambda x:x[0] if x else \"H\")\n",
    "psdf['Destination'].fillna(psdf['Destination'].mode()[0],inplace=True)"
   ]
  },
  {
   "cell_type": "code",
   "execution_count": null,
   "id": "c2ed4437",
   "metadata": {},
   "outputs": [],
   "source": [
    "temp = pd.crosstab(index=psdf[\"Destination\"],columns=psdf[\"Transported\"])\n",
    "temp.div(np.sum(temp,axis=1),axis=0).plot.bar(stacked=True)\n",
    "plt.show()"
   ]
  },
  {
   "cell_type": "code",
   "execution_count": null,
   "id": "a2defbbb",
   "metadata": {},
   "outputs": [],
   "source": [
    "temp = pd.crosstab(index=psdf[\"Cabin\"],columns=psdf[\"Transported\"])\n",
    "temp.div(np.sum(temp,axis=1),axis=0).plot.bar(stacked=True)\n",
    "plt.show()"
   ]
  },
  {
   "cell_type": "code",
   "execution_count": null,
   "id": "3d5be00d",
   "metadata": {},
   "outputs": [],
   "source": [
    "temp = pd.crosstab(index=psdf[\"Cabin\"],columns=psdf[\"Destination\"])\n",
    "temp.div(np.sum(temp,axis=1),axis=0).plot.bar(stacked=True)\n",
    "plt.show()"
   ]
  },
  {
   "cell_type": "code",
   "execution_count": null,
   "id": "337556f9",
   "metadata": {},
   "outputs": [],
   "source": [
    "temp = pd.crosstab(index=psdf[\"Cabin\"],columns=[psdf['Transported'],psdf[\"Destination\"]]).swaplevel(axis=1).sort_index(axis=1)\n",
    "temp = temp.divide(temp.groupby(axis=1,level=0).sum(),level=0)\n",
    "temp.plot(kind='barh',subplots=True,layout=(3,2),figsize=(9,9),sharey=True)\n",
    "plt.show()"
   ]
  },
  {
   "cell_type": "markdown",
   "id": "9c1fb248",
   "metadata": {},
   "source": [
    "### It can be Infered from above graph Cabin B and C are more dangerous regardless of Destination and people going on Trappist less likely  to select A, B and C i.e Trappist people who doesn't select  Cabin A, B and C have lower chance of being teleported"
   ]
  },
  {
   "cell_type": "code",
   "execution_count": null,
   "id": "9f8b467b",
   "metadata": {},
   "outputs": [],
   "source": [
    "sns.histplot(psdf[\"Age\"],kde=True)\n",
    "plt.show()"
   ]
  },
  {
   "cell_type": "code",
   "execution_count": null,
   "id": "f092ee79",
   "metadata": {
    "scrolled": true
   },
   "outputs": [],
   "source": [
    "psdf[\"Age\"].fillna(psdf[\"Age\"].median(),inplace=True)\n",
    "np.sum(psdf[\"Age\"].isna())"
   ]
  },
  {
   "cell_type": "code",
   "execution_count": null,
   "id": "ebb6ea6b",
   "metadata": {},
   "outputs": [],
   "source": [
    "sns.histplot(psdf.loc[psdf[\"Transported\"]==True][\"Age\"])\n",
    "plt.show()"
   ]
  },
  {
   "cell_type": "code",
   "execution_count": null,
   "id": "7eeacc2f",
   "metadata": {},
   "outputs": [],
   "source": [
    "sns.histplot(psdf.loc[psdf[\"Transported\"]==False][\"Age\"])\n",
    "plt.show()"
   ]
  },
  {
   "cell_type": "code",
   "execution_count": null,
   "id": "1f1af32e",
   "metadata": {},
   "outputs": [],
   "source": [
    "fig,ax= plt.subplots(1,1,figsize=(7,6))\n",
    "sns.boxplot(psdf,x=\"Transported\",y=\"Age\",ax=ax)\n",
    "plt.show()"
   ]
  },
  {
   "cell_type": "markdown",
   "id": "9cedee3a",
   "metadata": {},
   "source": [
    "##### From above it can be seen that small kids have high chance of teleportation"
   ]
  },
  {
   "cell_type": "code",
   "execution_count": null,
   "id": "e3b474f5",
   "metadata": {},
   "outputs": [],
   "source": [
    "psdf[\"VIP\"].fillna(False,inplace=True)\n",
    "temp = pd.crosstab(index=psdf[\"Transported\"],columns=psdf[\"VIP\"])\n",
    "temp.div(np.sum(temp,axis=1),axis=0).plot.bar(stacked=True)\n",
    "plt.show()"
   ]
  },
  {
   "cell_type": "markdown",
   "id": "5a4e8c67",
   "metadata": {},
   "source": [
    "### There doesn't seems to be much relation between transported and VIP feature"
   ]
  },
  {
   "cell_type": "code",
   "execution_count": null,
   "id": "30077363",
   "metadata": {},
   "outputs": [],
   "source": [
    "temp = psdf.loc[psdf[\"VIP\"]==True][[\"RoomService\",\"FoodCourt\",\"ShoppingMall\",\"Spa\",\"VRDeck\"]]\n",
    "temp.sum()/temp.count()"
   ]
  },
  {
   "cell_type": "code",
   "execution_count": null,
   "id": "710eabef",
   "metadata": {},
   "outputs": [],
   "source": [
    "temp = psdf.loc[psdf[\"VIP\"]==False][[\"RoomService\",\"FoodCourt\",\"ShoppingMall\",\"Spa\",\"VRDeck\"]]\n",
    "temp.sum()/temp.count()"
   ]
  },
  {
   "cell_type": "markdown",
   "id": "0f6cd482",
   "metadata": {},
   "source": [
    "#### VIP people are much likely to spend on RoomService, FoodCourt, ShoppingMall, Spa and VRDeck than normal people"
   ]
  },
  {
   "cell_type": "code",
   "execution_count": null,
   "id": "9c5c7e8c",
   "metadata": {},
   "outputs": [],
   "source": [
    "sns.heatmap(psdf.select_dtypes(exclude=\"object\").corr(),annot=True,vmin=-1,vmax=1)\n",
    "plt.show()"
   ]
  },
  {
   "cell_type": "markdown",
   "id": "26ce8836",
   "metadata": {},
   "source": [
    "#### Peop"
   ]
  },
  {
   "cell_type": "code",
   "execution_count": null,
   "id": "f34433de",
   "metadata": {},
   "outputs": [],
   "source": [
    "temp = psdf[[\"ShoppingMall\",\"Spa\",\"VRDeck\",\"FoodCourt\",\"Transported\",\"RoomService\"]]\n",
    "temp =  temp.loc[\n",
    "    (temp[\"ShoppingMall\"]<temp[\"ShoppingMall\"].quantile(0.99))\n",
    "    &(temp[\"Spa\"]<temp[\"Spa\"].quantile(0.99))\n",
    "    &(temp[\"VRDeck\"]<temp[\"VRDeck\"].quantile(0.99))\n",
    "    &(temp[\"FoodCourt\"]<temp[\"FoodCourt\"].quantile(0.99))\n",
    "    &(temp[\"RoomService\"]<temp[\"RoomService\"].quantile(0.99))\n",
    "]\n",
    "sns.pairplot(temp,diag_kind=\"kde\",hue=\"Transported\")\n",
    "plt.show()"
   ]
  },
  {
   "cell_type": "markdown",
   "id": "050ba658",
   "metadata": {},
   "source": [
    "#### From above graph we can infer, people that spend more money on Spa, RoomService and VRDeck are likely to be transported and people that spend money on Spa and VRDeck are less likely to spend in ShoppingMall and RoomService"
   ]
  },
  {
   "cell_type": "markdown",
   "id": "2576e102",
   "metadata": {},
   "source": [
    "# Applying ML models"
   ]
  },
  {
   "cell_type": "code",
   "execution_count": null,
   "id": "33ed4de6",
   "metadata": {},
   "outputs": [],
   "source": [
    "train = pd.read_csv('./Dataset/spaceship-titanic/train.csv')\n",
    "test = pd.read_csv('./Dataset/spaceship-titanic/train.csv')"
   ]
  },
  {
   "cell_type": "code",
   "execution_count": null,
   "id": "c121615c",
   "metadata": {},
   "outputs": [],
   "source": [
    "STRATEGY = 'median'\n",
    "TARGET = 'Transported'"
   ]
  },
  {
   "cell_type": "code",
   "execution_count": null,
   "id": "273f1c6d",
   "metadata": {},
   "outputs": [],
   "source": [
    "imputer_cols = [\"Age\", \"FoodCourt\", \"ShoppingMall\", \"Spa\", \"VRDeck\" ,\"RoomService\"]\n",
    "imputer = SimpleImputer(strategy=STRATEGY )\n",
    "imputer.fit(train[imputer_cols])\n",
    "train[imputer_cols] = imputer.transform(train[imputer_cols])\n",
    "test[imputer_cols] = imputer.transform(test[imputer_cols])\n",
    "train[\"HomePlanet\"].fillna('Z', inplace=True)\n",
    "test[\"HomePlanet\"].fillna('Z', inplace=True)"
   ]
  },
  {
   "cell_type": "code",
   "execution_count": null,
   "id": "76025cd2",
   "metadata": {},
   "outputs": [],
   "source": [
    "label_cols = [\"HomePlanet\", \"CryoSleep\",\"Cabin\", \"Destination\" ,\"VIP\"]\n",
    "def label_encoder(train,test,columns):\n",
    "    for col in columns:\n",
    "        train[col] = train[col].astype(str)\n",
    "        test[col] = test[col].astype(str)\n",
    "        train[col] = LabelEncoder().fit_transform(train[col])\n",
    "        test[col] =  LabelEncoder().fit_transform(test[col])\n",
    "    return train, test\n",
    "\n",
    "train ,test = label_encoder(train,test ,label_cols)"
   ]
  },
  {
   "cell_type": "code",
   "execution_count": null,
   "id": "a630e60d",
   "metadata": {},
   "outputs": [],
   "source": [
    "train.drop([\"Name\" ,\"Cabin\"] , axis = 1 ,inplace = True)\n",
    "test.drop([\"Name\" ,\"Cabin\"] , axis = 1 ,inplace = True)\n",
    "X = train.drop(TARGET , axis =1 )\n",
    "y = train[TARGET]\n",
    "X_train , X_test , y_train , y_test = train_test_split(X, y, random_state = 20, test_size =0.33)"
   ]
  },
  {
   "cell_type": "code",
   "execution_count": null,
   "id": "87a270be",
   "metadata": {},
   "outputs": [],
   "source": [
    "lr = LogisticRegression(solver='liblinear', random_state=0)"
   ]
  },
  {
   "cell_type": "code",
   "execution_count": null,
   "id": "993e1647",
   "metadata": {},
   "outputs": [],
   "source": [
    "lr.fit(X_train, y_train)"
   ]
  },
  {
   "cell_type": "code",
   "execution_count": null,
   "id": "3ffd832d",
   "metadata": {},
   "outputs": [],
   "source": [
    "lr.classes_"
   ]
  },
  {
   "cell_type": "code",
   "execution_count": null,
   "id": "5f5ec9b5",
   "metadata": {},
   "outputs": [],
   "source": [
    "lr.intercept_"
   ]
  },
  {
   "cell_type": "code",
   "execution_count": null,
   "id": "11cf03d5",
   "metadata": {},
   "outputs": [],
   "source": [
    "lr.coef_"
   ]
  },
  {
   "cell_type": "code",
   "execution_count": null,
   "id": "bf5ce880",
   "metadata": {},
   "outputs": [],
   "source": [
    "lr.predict_proba(X_test)"
   ]
  },
  {
   "cell_type": "code",
   "execution_count": null,
   "id": "b08e790b",
   "metadata": {},
   "outputs": [],
   "source": [
    "lr.predict(X_test)"
   ]
  },
  {
   "cell_type": "code",
   "execution_count": null,
   "id": "961ba3a4",
   "metadata": {},
   "outputs": [],
   "source": [
    "lr.score(X_test, y_test)"
   ]
  },
  {
   "cell_type": "code",
   "execution_count": null,
   "id": "3a71c76f",
   "metadata": {},
   "outputs": [],
   "source": [
    "confusion_matrix(y_test, lr.predict(X_test))"
   ]
  },
  {
   "cell_type": "code",
   "execution_count": null,
   "id": "b0600e91",
   "metadata": {},
   "outputs": [],
   "source": [
    "lr.score(X_train, y_train)"
   ]
  },
  {
   "cell_type": "code",
   "execution_count": null,
   "id": "a0628412",
   "metadata": {},
   "outputs": [],
   "source": [
    "cm = confusion_matrix(y_test, lr.predict(X_test))\n",
    "\n",
    "fig, ax = plt.subplots(figsize=(8, 8))\n",
    "ax.imshow(cm)\n",
    "ax.grid(False)\n",
    "ax.xaxis.set(ticks=(0, 1), ticklabels=('Predicted 0s', 'Predicted 1s'))\n",
    "ax.yaxis.set(ticks=(0, 1), ticklabels=('Actual 0s', 'Actual 1s'))\n",
    "ax.set_ylim(1.5, -0.5)\n",
    "for i in range(2):\n",
    "    for j in range(2):\n",
    "        ax.text(j, i, cm[i, j], ha='center', va='center', color='red')\n",
    "plt.show()"
   ]
  },
  {
   "cell_type": "code",
   "execution_count": null,
   "id": "0155cf54",
   "metadata": {},
   "outputs": [],
   "source": [
    "print(classification_report(y_test, lr.predict(X_test)))"
   ]
  }
 ],
 "metadata": {
  "kernelspec": {
   "display_name": "Python 3 (ipykernel)",
   "language": "python",
   "name": "python3"
  },
  "language_info": {
   "codemirror_mode": {
    "name": "ipython",
    "version": 3
   },
   "file_extension": ".py",
   "mimetype": "text/x-python",
   "name": "python",
   "nbconvert_exporter": "python",
   "pygments_lexer": "ipython3",
   "version": "3.8.8"
  }
 },
 "nbformat": 4,
 "nbformat_minor": 5
}
