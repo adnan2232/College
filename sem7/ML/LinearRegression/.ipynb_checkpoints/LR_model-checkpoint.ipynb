{
 "cells": [
  {
   "cell_type": "markdown",
   "metadata": {
    "id": "oPVyV9Z0vCZE"
   },
   "source": [
    "# 68_Adnan Shaikh"
   ]
  },
  {
   "cell_type": "code",
   "execution_count": 1,
   "metadata": {
    "id": "8FbIo-lLMBMw"
   },
   "outputs": [],
   "source": [
    "import pandas as pd\n",
    "import numpy as np\n",
    "import matplotlib.pyplot as plt\n",
    "%matplotlib inline"
   ]
  },
  {
   "cell_type": "code",
   "execution_count": 2,
   "metadata": {
    "id": "gc5ZIwNnMYs2"
   },
   "outputs": [],
   "source": [
    "obj = pd.DataFrame({\"x\":np.arange(300,500,0.2)+np.random.uniform(low=0,high=50,size=1000), \"y\":np.arange(5000,7000,2)+np.random.uniform(low=0,high=250,size=1000)})"
   ]
  },
  {
   "cell_type": "code",
   "execution_count": 3,
   "metadata": {
    "colab": {
     "base_uri": "https://localhost:8080/",
     "height": 295
    },
    "id": "QNfd6kEGN7D2",
    "outputId": "afb9bb19-5890-4bd9-a129-18c88cd07162"
   },
   "outputs": [
    {
     "data": {
      "image/png": "[encoded data removed]",
      "text/plain": [
       "<Figure size 432x288 with 1 Axes>"
      ]
     },
     "metadata": {
      "needs_background": "light"
     },
     "output_type": "display_data"
    }
   ],
   "source": [
    "fig,axis = plt.subplots()\n",
    "obj.plot(x=\"x\",y=\"y\",ax=axis,kind=\"scatter\",title=\"random_scatter_plot\",xlabel=\"area\",ylabel=\"price\",layout=(10,9))\n",
    "plt.show()"
   ]
  },
  {
   "cell_type": "code",
   "execution_count": 4,
   "metadata": {
    "id": "eieA5DShORkO"
   },
   "outputs": [],
   "source": [
    "def minmax_normalize(data,new_max,new_min):\n",
    "  mini = data.min()\n",
    "  maxi = data.max()\n",
    "  normalize_data = []\n",
    "  for x in data:\n",
    "    normalize_data.append((x-mini)/(mini-maxi)*(new_max-new_min)+new_min)\n",
    "  return np.array(normalize_data)"
   ]
  },
  {
   "cell_type": "code",
   "execution_count": 5,
   "metadata": {
    "id": "c88LujasRG2R"
   },
   "outputs": [],
   "source": [
    "class LinearModel:\n",
    "  def fit(self,x,y):\n",
    "    x_mean,y_mean = x.mean(), y.mean()\n",
    "    x_norm, y_norm = x.apply(lambda k: k-x_mean), y.apply(lambda k: k-y_mean)\n",
    "    sum_x = x_norm.sum()\n",
    "    sum_y = y_norm.sum()\n",
    "    xy_sum = (x_norm*y_norm).sum()\n",
    "    sum_x_sq =  (x_norm**2).sum()\n",
    "    intercept = xy_sum/sum_x_sq\n",
    "    slope = y_mean-intercept*x_mean\n",
    "    self.intercept, self.slope = intercept,slope\n",
    "    return intercept,slope\n",
    "\n",
    "  def predict(self,x):\n",
    "    result = []\n",
    "    for data in x:\n",
    "      result.append(self.slope+self.intercept*data)\n",
    "    return np.array(result)\n",
    "\n",
    "  def average_error(self,x,y):\n",
    "  \n",
    "    predicted_y = self.predict(x)\n",
    "    rmse = np.sqrt(np.sum(np.square(predicted_y-y))/x.shape[0])\n",
    "    return rmse\n",
    "\n"
   ]
  },
  {
   "cell_type": "code",
   "execution_count": 6,
   "metadata": {
    "id": "Wq5K58yMS6YN"
   },
   "outputs": [],
   "source": [
    "model = LinearModel()"
   ]
  },
  {
   "cell_type": "code",
   "execution_count": 7,
   "metadata": {
    "colab": {
     "base_uri": "https://localhost:8080/"
    },
    "id": "aELGW_gdV5xr",
    "outputId": "1188c1d1-f012-4aab-bdcf-aed0972b8797"
   },
   "outputs": [
    {
     "data": {
      "text/plain": [
       "(9.379816850089613, 2143.430221913603)"
      ]
     },
     "execution_count": 7,
     "metadata": {},
     "output_type": "execute_result"
    }
   ],
   "source": [
    "model.fit(obj.x,obj.y)"
   ]
  },
  {
   "cell_type": "code",
   "execution_count": 8,
   "metadata": {
    "colab": {
     "base_uri": "https://localhost:8080/"
    },
    "id": "Dz-PmgSMcowL",
    "outputId": "68f93f31-ba67-4b0d-9cee-8563f1567152"
   },
   "outputs": [
    {
     "data": {
      "text/plain": [
       "157.9563099222744"
      ]
     },
     "execution_count": 8,
     "metadata": {},
     "output_type": "execute_result"
    }
   ],
   "source": [
    "model.average_error(obj.x,obj.y)"
   ]
  },
  {
   "cell_type": "code",
   "execution_count": 9,
   "metadata": {
    "colab": {
     "base_uri": "https://localhost:8080/",
     "height": 206
    },
    "id": "ak-4EcUSdq-D",
    "outputId": "7ca26837-f4b0-44f5-a7e4-1839cf401f71"
   },
   "outputs": [
    {
     "data": {
      "text/html": [
       "<div>\n",
       "<style scoped>\n",
       "    .dataframe tbody tr th:only-of-type {\n",
       "        vertical-align: middle;\n",
       "    }\n",
       "\n",
       "    .dataframe tbody tr th {\n",
       "        vertical-align: top;\n",
       "    }\n",
       "\n",
       "    .dataframe thead th {\n",
       "        text-align: right;\n",
       "    }\n",
       "</style>\n",
       "<table border=\"1\" class=\"dataframe\">\n",
       "  <thead>\n",
       "    <tr style=\"text-align: right;\">\n",
       "      <th></th>\n",
       "      <th>x</th>\n",
       "      <th>y</th>\n",
       "    </tr>\n",
       "  </thead>\n",
       "  <tbody>\n",
       "    <tr>\n",
       "      <th>0</th>\n",
       "      <td>329.923993</td>\n",
       "      <td>5172.183623</td>\n",
       "    </tr>\n",
       "    <tr>\n",
       "      <th>1</th>\n",
       "      <td>330.659897</td>\n",
       "      <td>5156.647979</td>\n",
       "    </tr>\n",
       "    <tr>\n",
       "      <th>2</th>\n",
       "      <td>338.970577</td>\n",
       "      <td>5248.960807</td>\n",
       "    </tr>\n",
       "    <tr>\n",
       "      <th>3</th>\n",
       "      <td>313.505977</td>\n",
       "      <td>5168.992688</td>\n",
       "    </tr>\n",
       "    <tr>\n",
       "      <th>4</th>\n",
       "      <td>304.432691</td>\n",
       "      <td>5046.956522</td>\n",
       "    </tr>\n",
       "  </tbody>\n",
       "</table>\n",
       "</div>"
      ],
      "text/plain": [
       "            x            y\n",
       "0  329.923993  5172.183623\n",
       "1  330.659897  5156.647979\n",
       "2  338.970577  5248.960807\n",
       "3  313.505977  5168.992688\n",
       "4  304.432691  5046.956522"
      ]
     },
     "execution_count": 9,
     "metadata": {},
     "output_type": "execute_result"
    }
   ],
   "source": [
    "obj.head()"
   ]
  },
  {
   "cell_type": "code",
   "execution_count": 10,
   "metadata": {
    "colab": {
     "base_uri": "https://localhost:8080/"
    },
    "id": "6haXTZgleOW1",
    "outputId": "df279d6d-0ef0-4d48-a28b-08c90cde438c"
   },
   "outputs": [
    {
     "data": {
      "text/plain": [
       "array([5191.87069819])"
      ]
     },
     "execution_count": 10,
     "metadata": {},
     "output_type": "execute_result"
    }
   ],
   "source": [
    "model.predict([325])"
   ]
  }
 ],
 "metadata": {
  "colab": {
   "collapsed_sections": [],
   "provenance": []
  },
  "kernelspec": {
   "display_name": "Python 3 (ipykernel)",
   "language": "python",
   "name": "python3"
  },
  "language_info": {
   "codemirror_mode": {
    "name": "ipython",
    "version": 3
   },
   "file_extension": ".py",
   "mimetype": "text/x-python",
   "name": "python",
   "nbconvert_exporter": "python",
   "pygments_lexer": "ipython3",
   "version": "3.8.8"
  }
 },
 "nbformat": 4,
 "nbformat_minor": 1
}
