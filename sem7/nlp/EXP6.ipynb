{
 "cells": [
  {
   "cell_type": "markdown",
   "id": "77fe215c",
   "metadata": {},
   "source": [
    "# 68_Adnan Shaikh"
   ]
  },
  {
   "cell_type": "code",
   "execution_count": 4,
   "id": "b7eaa664",
   "metadata": {},
   "outputs": [
    {
     "name": "stdout",
     "output_type": "stream",
     "text": [
      "Original corpus :\n",
      "Thinking fast , Tilghman never hesitated for one instant . He walked right up to the fire as though blissfully unaware of the guns covering him . The men behind them were Bill Doolin and five of his gang -- every man a killer .\n",
      "\n",
      "Tokenized words : \n",
      "['Thinking', 'fast', ',', 'Tilghman', 'never', 'hesitated', 'for', 'one', 'instant', '.', 'He', 'walked', 'right', 'up', 'to', 'the', 'fire', 'as', 'though', 'blissfully', 'unaware', 'of', 'the', 'guns', 'covering', 'him', '.', 'The', 'men', 'behind', 'them', 'were', 'Bill', 'Doolin', 'and', 'five', 'of', 'his', 'gang', '--', 'every', 'man', 'a', 'killer', '.']\n",
      "\n",
      "POS tagged words : \n",
      "[('Thinking', 'VBG'), ('fast', 'RB'), (',', ','), ('Tilghman', 'NNP'), ('never', 'RB'), ('hesitated', 'VBD'), ('for', 'IN'), ('one', 'CD'), ('instant', 'NN'), ('.', '.'), ('He', 'PRP'), ('walked', 'VBD'), ('right', 'RB'), ('up', 'RB'), ('to', 'TO'), ('the', 'DT'), ('fire', 'NN'), ('as', 'IN'), ('though', 'IN'), ('blissfully', 'RB'), ('unaware', 'JJ'), ('of', 'IN'), ('the', 'DT'), ('guns', 'NNS'), ('covering', 'VBG'), ('him', 'PRP'), ('.', '.'), ('The', 'DT'), ('men', 'NNS'), ('behind', 'IN'), ('them', 'PRP'), ('were', 'VBD'), ('Bill', 'NNP'), ('Doolin', 'NNP'), ('and', 'CC'), ('five', 'CD'), ('of', 'IN'), ('his', 'PRP$'), ('gang', 'NN'), ('--', ':'), ('every', 'DT'), ('man', 'NN'), ('a', 'DT'), ('killer', 'NN'), ('.', '.')]\n"
     ]
    }
   ],
   "source": [
    "from random import choice\n",
    "from nltk import pos_tag\n",
    "from nltk import word_tokenize\n",
    "from nltk.corpus import brown\n",
    "\n",
    "samples = choice(brown.paras(categories=\"hobbies\"))\n",
    "corpus = \" \".join([\" \".join(sample) for sample in samples])\n",
    "print(f\"Original corpus :\\n{corpus}\\n\")\n",
    "\n",
    "tokens = word_tokenize(corpus)\n",
    "print(f\"Tokenized words : \\n{tokens}\\n\")\n",
    "\n",
    "tagged_words = pos_tag(tokens)\n",
    "print(f\"POS tagged words : \\n{tagged_words}\")\n",
    "\n"
   ]
  }
 ],
 "metadata": {
  "kernelspec": {
   "display_name": "Python 3 (ipykernel)",
   "language": "python",
   "name": "python3"
  },
  "language_info": {
   "codemirror_mode": {
    "name": "ipython",
    "version": 3
   },
   "file_extension": ".py",
   "mimetype": "text/x-python",
   "name": "python",
   "nbconvert_exporter": "python",
   "pygments_lexer": "ipython3",
   "version": "3.9.7"
  }
 },
 "nbformat": 4,
 "nbformat_minor": 5
}
