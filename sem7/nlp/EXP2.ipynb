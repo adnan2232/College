{
 "cells": [
  {
   "cell_type": "markdown",
   "id": "bf619b51",
   "metadata": {},
   "source": [
    "# 68_Adnan Shaikh"
   ]
  },
  {
   "cell_type": "code",
   "execution_count": 3,
   "id": "815f60d4",
   "metadata": {},
   "outputs": [],
   "source": [
    "from random import choice\n",
    "import nltk\n",
    "from nltk.corpus import stopwords, brown\n",
    "\n",
    "samples = choice(brown.paras(categories=\"fiction\"))\n",
    "corpus = \" \".join([\" \".join(sample) for sample in samples])\n",
    "print(f\"Original corpus :\\n{corpus}\\n\")\n",
    "\n",
    "tokens = nltk.word_tokenize(corpus)\n",
    "print(f\"Tokenized words : \\n{tokens}\\n\")\n",
    "\n",
    "stop_words = set(stopwords.words(\"english\"))\n",
    "rel_words = [rel for rel in tokens if not rel in stop_words]\n",
    "print(f\"Tokens without stop words :\\n{rel_words}\")"
   ]
  }
 ],
 "metadata": {
  "kernelspec": {
   "display_name": "Python 3 (ipykernel)",
   "language": "python",
   "name": "python3"
  },
  "language_info": {
   "codemirror_mode": {
    "name": "ipython",
    "version": 3
   },
   "file_extension": ".py",
   "mimetype": "text/x-python",
   "name": "python",
   "nbconvert_exporter": "python",
   "pygments_lexer": "ipython3",
   "version": "3.9.7"
  }
 },
 "nbformat": 4,
 "nbformat_minor": 5
}
