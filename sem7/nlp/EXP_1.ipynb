{
 "cells": [
  {
   "cell_type": "markdown",
   "id": "2347da5b",
   "metadata": {},
   "source": [
    "# 68_Adnan Shaikh"
   ]
  },
  {
   "cell_type": "code",
   "execution_count": 1,
   "id": "23d7222e",
   "metadata": {},
   "outputs": [
    {
     "name": "stdout",
     "output_type": "stream",
     "text": [
      "Original Corpus:\n",
      "`` My beloved ward , my perennial gadfly '' , said the whining voice . `` I had no idea that you , too , would be on this glorious voyage . But I might have known ! ! We seem to be bound by love ; ; Sigmen himself must have foreseen it . Love to you , my ward '' .\n",
      "\n",
      "Tokenized Corpus:\n",
      "['``', 'My', 'beloved', 'ward', ',', 'my', 'perennial', 'gadfly', '``', ',', 'said', 'the', 'whining', 'voice', '.', '``', 'I', 'had', 'no', 'idea', 'that', 'you', ',', 'too', ',', 'would', 'be', 'on', 'this', 'glorious', 'voyage', '.', 'But', 'I', 'might', 'have', 'known', '!', '!', 'We', 'seem', 'to', 'be', 'bound', 'by', 'love', ';', ';', 'Sigmen', 'himself', 'must', 'have', 'foreseen', 'it', '.', 'Love', 'to', 'you', ',', 'my', 'ward', '``', '.']\n"
     ]
    }
   ],
   "source": [
    "\n",
    "\n",
    "import nltk\n",
    "from nltk.corpus import *\n",
    "from random import choice\n",
    "\n",
    "samples  = choice(brown.paras(categories=\"science_fiction\"))\n",
    "\n",
    "sample = \" \".join([\" \".join(sample) for sample in samples])\n",
    "tokenized = nltk.word_tokenize(sample)\n",
    "\n",
    "print(f\"Original Corpus:\\n{sample}\\n\\nTokenized Corpus:\\n{tokenized}\")\n",
    "\n"
   ]
  },
  {
   "cell_type": "code",
   "execution_count": null,
   "id": "47ab7fc0",
   "metadata": {},
   "outputs": [],
   "source": []
  }
 ],
 "metadata": {
  "kernelspec": {
   "display_name": "Python 3 (ipykernel)",
   "language": "python",
   "name": "python3"
  },
  "language_info": {
   "codemirror_mode": {
    "name": "ipython",
    "version": 3
   },
   "file_extension": ".py",
   "mimetype": "text/x-python",
   "name": "python",
   "nbconvert_exporter": "python",
   "pygments_lexer": "ipython3",
   "version": "3.9.7"
  }
 },
 "nbformat": 4,
 "nbformat_minor": 5
}
