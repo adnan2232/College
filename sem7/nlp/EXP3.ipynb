{
 "cells": [
  {
   "cell_type": "markdown",
   "id": "be6d5c0a",
   "metadata": {},
   "source": [
    "# 68_Adnan Shaikh"
   ]
  },
  {
   "cell_type": "code",
   "execution_count": 3,
   "id": "a440c365",
   "metadata": {},
   "outputs": [
    {
     "name": "stdout",
     "output_type": "stream",
     "text": [
      "Original corpus :\n",
      "And when they had got to their little lawn , they had had a most twirlingly magnificent time . First , Arlene had put them through some rapid somersaults . They had protested that that wasn't any surprise .\n",
      "\n",
      "Tokenized words : \n",
      "['And', 'when', 'they', 'had', 'got', 'to', 'their', 'little', 'lawn', ',', 'they', 'had', 'had', 'a', 'most', 'twirlingly', 'magnificent', 'time', '.', 'First', ',', 'Arlene', 'had', 'put', 'them', 'through', 'some', 'rapid', 'somersaults', '.', 'They', 'had', 'protested', 'that', 'that', 'was', \"n't\", 'any', 'surprise', '.']\n",
      "\n",
      "Stemmed words :\n",
      "['and', 'when', 'they', 'had', 'got', 'to', 'their', 'littl', 'lawn', ',', 'they', 'had', 'had', 'a', 'most', 'twirlingli', 'magnific', 'time', '.', 'first', ',', 'arlen', 'had', 'put', 'them', 'through', 'some', 'rapid', 'somersault', '.', 'they', 'had', 'protest', 'that', 'that', 'wa', \"n't\", 'ani', 'surpris', '.']\n"
     ]
    }
   ],
   "source": [
    "from random import choice\n",
    "from nltk import word_tokenize\n",
    "from nltk.corpus import brown\n",
    "from nltk.stem.porter import PorterStemmer\n",
    "\n",
    "samples = choice(brown.paras(categories=\"humor\"))\n",
    "corpus = \" \".join([\" \".join(sample) for sample in samples])\n",
    "print(f\"Original corpus :\\n{corpus}\\n\")\n",
    "\n",
    "tokens = word_tokenize(corpus)\n",
    "print(f\"Tokenized words : \\n{tokens}\\n\")\n",
    "\n",
    "porter = PorterStemmer()\n",
    "stem_words = [porter.stem(stem) for stem in tokens]\n",
    "print(f\"Stemmed words :\\n{stem_words}\")\n"
   ]
  }
 ],
 "metadata": {
  "kernelspec": {
   "display_name": "Python 3 (ipykernel)",
   "language": "python",
   "name": "python3"
  },
  "language_info": {
   "codemirror_mode": {
    "name": "ipython",
    "version": 3
   },
   "file_extension": ".py",
   "mimetype": "text/x-python",
   "name": "python",
   "nbconvert_exporter": "python",
   "pygments_lexer": "ipython3",
   "version": "3.9.7"
  }
 },
 "nbformat": 4,
 "nbformat_minor": 5
}
