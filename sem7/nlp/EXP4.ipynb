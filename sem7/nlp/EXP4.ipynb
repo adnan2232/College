{
 "cells": [
  {
   "cell_type": "markdown",
   "id": "eec68ad7",
   "metadata": {},
   "source": [
    "# 68_Adnan Shaikh"
   ]
  },
  {
   "cell_type": "code",
   "execution_count": 8,
   "id": "a3e04ef4",
   "metadata": {},
   "outputs": [
    {
     "name": "stdout",
     "output_type": "stream",
     "text": [
      "Original corpus :\n",
      "It was a ridiculous situation and Rector knew it , for Hino , frankly partisan , openly gregarious , would make a poor espionage agent . If he wanted to know anything , he would end up asking about it point-blank , but in this guileless manner he would probably receive more truthful answers than if he tried to get them by indirection . In all of his experience in the mission field Rector had never seen a convert quite like Hino . From the moment that Hino had first walked into the mission to ask for a job , any job -- his qualifications neatly written on a piece of paper in a precise hand -- he had been ready to become a Christian . He had already been studying the Bible ; ; he knew the fundamentals , and after studying with Fletcher for a time he approached Rector , announced that he wanted to be baptized and that was that .\n",
      "\n",
      "Tokenized words : \n",
      "['It', 'was', 'a', 'ridiculous', 'situation', 'and', 'Rector', 'knew', 'it', ',', 'for', 'Hino', ',', 'frankly', 'partisan', ',', 'openly', 'gregarious', ',', 'would', 'make', 'a', 'poor', 'espionage', 'agent', '.', 'If', 'he', 'wanted', 'to', 'know', 'anything', ',', 'he', 'would', 'end', 'up', 'asking', 'about', 'it', 'point-blank', ',', 'but', 'in', 'this', 'guileless', 'manner', 'he', 'would', 'probably', 'receive', 'more', 'truthful', 'answers', 'than', 'if', 'he', 'tried', 'to', 'get', 'them', 'by', 'indirection', '.', 'In', 'all', 'of', 'his', 'experience', 'in', 'the', 'mission', 'field', 'Rector', 'had', 'never', 'seen', 'a', 'convert', 'quite', 'like', 'Hino', '.', 'From', 'the', 'moment', 'that', 'Hino', 'had', 'first', 'walked', 'into', 'the', 'mission', 'to', 'ask', 'for', 'a', 'job', ',', 'any', 'job', '--', 'his', 'qualifications', 'neatly', 'written', 'on', 'a', 'piece', 'of', 'paper', 'in', 'a', 'precise', 'hand', '--', 'he', 'had', 'been', 'ready', 'to', 'become', 'a', 'Christian', '.', 'He', 'had', 'already', 'been', 'studying', 'the', 'Bible', ';', ';', 'he', 'knew', 'the', 'fundamentals', ',', 'and', 'after', 'studying', 'with', 'Fletcher', 'for', 'a', 'time', 'he', 'approached', 'Rector', ',', 'announced', 'that', 'he', 'wanted', 'to', 'be', 'baptized', 'and', 'that', 'was', 'that', '.']\n",
      "\n",
      "Lemmatized words :\n",
      "['It', 'wa', 'a', 'ridiculous', 'situation', 'and', 'Rector', 'knew', 'it', ',', 'for', 'Hino', ',', 'frankly', 'partisan', ',', 'openly', 'gregarious', ',', 'would', 'make', 'a', 'poor', 'espionage', 'agent', '.', 'If', 'he', 'wanted', 'to', 'know', 'anything', ',', 'he', 'would', 'end', 'up', 'asking', 'about', 'it', 'point-blank', ',', 'but', 'in', 'this', 'guileless', 'manner', 'he', 'would', 'probably', 'receive', 'more', 'truthful', 'answer', 'than', 'if', 'he', 'tried', 'to', 'get', 'them', 'by', 'indirection', '.', 'In', 'all', 'of', 'his', 'experience', 'in', 'the', 'mission', 'field', 'Rector', 'had', 'never', 'seen', 'a', 'convert', 'quite', 'like', 'Hino', '.', 'From', 'the', 'moment', 'that', 'Hino', 'had', 'first', 'walked', 'into', 'the', 'mission', 'to', 'ask', 'for', 'a', 'job', ',', 'any', 'job', '--', 'his', 'qualification', 'neatly', 'written', 'on', 'a', 'piece', 'of', 'paper', 'in', 'a', 'precise', 'hand', '--', 'he', 'had', 'been', 'ready', 'to', 'become', 'a', 'Christian', '.', 'He', 'had', 'already', 'been', 'studying', 'the', 'Bible', ';', ';', 'he', 'knew', 'the', 'fundamental', ',', 'and', 'after', 'studying', 'with', 'Fletcher', 'for', 'a', 'time', 'he', 'approached', 'Rector', ',', 'announced', 'that', 'he', 'wanted', 'to', 'be', 'baptized', 'and', 'that', 'wa', 'that', '.']\n"
     ]
    }
   ],
   "source": [
    "from random import choice\n",
    "from nltk import word_tokenize\n",
    "from nltk.corpus import brown\n",
    "from nltk.stem import WordNetLemmatizer\n",
    "\n",
    "samples = choice(brown.paras(categories=\"fiction\"))\n",
    "corpus = \" \".join([\" \".join(sample) for sample in samples])\n",
    "print(f\"Original corpus :\\n{corpus}\\n\")\n",
    "\n",
    "tokens = word_tokenize(corpus)\n",
    "print(f\"Tokenized words : \\n{tokens}\\n\")\n",
    "\n",
    "lemma = WordNetLemmatizer()\n",
    "lem_words = [lemma.lemmatize(token) for token in tokens]\n",
    "print(f\"Lemmatized words :\\n{lem_words}\")\n"
   ]
  },
  {
   "cell_type": "code",
   "execution_count": null,
   "id": "dfe0f7ea",
   "metadata": {},
   "outputs": [],
   "source": []
  }
 ],
 "metadata": {
  "kernelspec": {
   "display_name": "Python 3 (ipykernel)",
   "language": "python",
   "name": "python3"
  },
  "language_info": {
   "codemirror_mode": {
    "name": "ipython",
    "version": 3
   },
   "file_extension": ".py",
   "mimetype": "text/x-python",
   "name": "python",
   "nbconvert_exporter": "python",
   "pygments_lexer": "ipython3",
   "version": "3.9.7"
  }
 },
 "nbformat": 4,
 "nbformat_minor": 5
}
